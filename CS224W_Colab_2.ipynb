{
  "cells": [
    {
      "cell_type": "markdown",
      "metadata": {
        "id": "view-in-github",
        "colab_type": "text"
      },
      "source": [
        "<a href=\"https://colab.research.google.com/github/IkeKobby/Stanford_CS224W2021/blob/main/CS224W_Colab_2.ipynb\" target=\"_parent\"><img src=\"https://colab.research.google.com/assets/colab-badge.svg\" alt=\"Open In Colab\"/></a>"
      ]
    },
    {
      "cell_type": "markdown",
      "metadata": {
        "id": "XuXWJLEm2UWS"
      },
      "source": [
        "# **CS224W - Colab 2**"
      ]
    },
    {
      "cell_type": "markdown",
      "metadata": {
        "id": "8gzsP50bF6Gb"
      },
      "source": [
        "In this Colab, we will construct our own graph neural network by using PyTorch Geometric (PyG) and apply the model on two of Open Graph Benchmark (OGB) datasets. Those two datasets are used to benchmark the model performance on two different graph-related tasks. One is node property prediction, predicting properties of single nodes. Another one is graph property prediction, predicting the entire graphs or subgraphs.\n",
        "\n",
        "At first, we will learn how PyTorch Geometric stores the graphs in PyTorch tensor.\n",
        "\n",
        "We will then load and take a quick look on one of the Open Graph Benchmark (OGB) datasets by using the `ogb` package. OGB is a collection of realistic, large-scale, and diverse benchmark datasets for machine learning on graphs. The `ogb` package not only provides the data loader of the dataset but also the evaluator.\n",
        "\n",
        "At last, we will build our own graph neural networks by using PyTorch Geometric. And then apply and evaluate the models on node property prediction and graph property prediction tasks.\n",
        "\n",
        "**Note**: Make sure to **sequentially run all the cells in each section**, so that the intermediate variables / packages will carry over to the next cell\n",
        "\n",
        "Have fun on Colab 2 :)"
      ]
    },
    {
      "cell_type": "markdown",
      "metadata": {
        "id": "ZGKqVEbbMEzf"
      },
      "source": [
        "# Device\n",
        "You might need to use GPU for this Colab.\n",
        "\n",
        "Please click `Runtime` and then `Change runtime type`. Then set the `hardware accelerator` to **GPU**."
      ]
    },
    {
      "cell_type": "markdown",
      "metadata": {
        "id": "B0NiFL6OLpaJ"
      },
      "source": [
        "# Installation"
      ]
    },
    {
      "cell_type": "code",
      "execution_count": 1,
      "metadata": {
        "id": "fdmKBzyfVW_g",
        "colab": {
          "base_uri": "https://localhost:8080/"
        },
        "outputId": "eb48bff2-f49a-4c51-be23-da4ab538fc7e"
      },
      "outputs": [
        {
          "output_type": "stream",
          "name": "stdout",
          "text": [
            "  Building wheel for torch-scatter (setup.py) ... \u001b[?25l\u001b[?25hdone\n",
            "\u001b[K     |████████████████████████████████| 43 kB 776 kB/s \n",
            "\u001b[?25h  Building wheel for torch-sparse (setup.py) ... \u001b[?25l\u001b[?25hdone\n",
            "\u001b[K     |████████████████████████████████| 370 kB 5.5 MB/s \n",
            "\u001b[K     |████████████████████████████████| 482 kB 41.0 MB/s \n",
            "\u001b[K     |████████████████████████████████| 41 kB 564 kB/s \n",
            "\u001b[?25h  Building wheel for torch-geometric (setup.py) ... \u001b[?25l\u001b[?25hdone\n"
          ]
        }
      ],
      "source": [
        "# Install torch geometric\n",
        "!pip install -q torch-scatter -f https://pytorch-geometric.com/whl/torch-1.7.0+cu101.html\n",
        "!pip install -q torch-sparse -f https://pytorch-geometric.com/whl/torch-1.7.0+cu101.html\n",
        "!pip install -q torch-geometric"
      ]
    },
    {
      "cell_type": "markdown",
      "metadata": {
        "id": "Nwwq0nSdmsOL"
      },
      "source": [
        "# 1 PyTorch Geometric (Datasets and Data)\n"
      ]
    },
    {
      "cell_type": "markdown",
      "metadata": {
        "id": "Sf7vUmdNKCjA"
      },
      "source": [
        "PyTorch Geometric generally has two classes for storing or transforming the graphs into tensor format. One is the `torch_geometric.datasets`, which contains a variety of common graph datasets. Another one is `torch_geometric.data` that provides the data handling of graphs in PyTorch tensors.\n",
        "\n",
        "In this section, we will learn how to use the `torch_geometric.datasets` and `torch_geometric.data`."
      ]
    },
    {
      "cell_type": "markdown",
      "metadata": {
        "id": "ic-o1P3r6hr2"
      },
      "source": [
        "## PyG Datasets\n",
        "\n",
        "The `torch_geometric.datasets` has many common graph datasets. Here we will explore the usage by using one example dataset."
      ]
    },
    {
      "cell_type": "code",
      "execution_count": 2,
      "metadata": {
        "colab": {
          "base_uri": "https://localhost:8080/"
        },
        "id": "zT5qca3x6XpG",
        "outputId": "d4865a5b-2894-44be-c939-29f2bbe2fb97"
      },
      "outputs": [
        {
          "output_type": "stream",
          "name": "stderr",
          "text": [
            "Downloading https://www.chrsmrrs.com/graphkerneldatasets/ENZYMES.zip\n",
            "Extracting enzymes/ENZYMES/ENZYMES.zip\n",
            "Processing...\n"
          ]
        },
        {
          "output_type": "stream",
          "name": "stdout",
          "text": [
            "ENZYMES(600)\n"
          ]
        },
        {
          "output_type": "stream",
          "name": "stderr",
          "text": [
            "Done!\n"
          ]
        }
      ],
      "source": [
        "from torch_geometric.datasets import TUDataset\n",
        "\n",
        "root = './enzymes'\n",
        "name = 'ENZYMES'\n",
        "\n",
        "# The ENZYMES dataset\n",
        "pyg_dataset= TUDataset('./enzymes', 'ENZYMES')\n",
        "\n",
        "# You can find that there are 600 graphs in this dataset\n",
        "print(pyg_dataset)"
      ]
    },
    {
      "cell_type": "markdown",
      "metadata": {
        "id": "NLm5vVYMAP2x"
      },
      "source": [
        "## Question 1: What is the number of classes and number of features in the ENZYMES dataset? (5 points)"
      ]
    },
    {
      "cell_type": "code",
      "execution_count": 3,
      "metadata": {
        "colab": {
          "base_uri": "https://localhost:8080/"
        },
        "id": "8iF_Kyqr_JbY",
        "outputId": "e2b681e6-73f1-4f97-e460-140f7135228f"
      },
      "outputs": [
        {
          "output_type": "stream",
          "name": "stdout",
          "text": [
            "ENZYMES dataset has 6 classes\n",
            "ENZYMES dataset has 3 features\n"
          ]
        }
      ],
      "source": [
        "def get_num_classes(pyg_dataset):\n",
        "    # TODO: Implement this function that takes a PyG dataset object\n",
        "    # and return the number of classes for that dataset.\n",
        "\n",
        "    num_classes = 0\n",
        "\n",
        "    ############# Your code here ############\n",
        "    ## (~1 line of code)\n",
        "    ## Note\n",
        "    ## 1. Colab autocomplete functionality might be useful.\n",
        "    num_classes = pyg_dataset.num_classes\n",
        "    #########################################\n",
        "\n",
        "    return num_classes\n",
        "\n",
        "def get_num_features(pyg_dataset):\n",
        "    # TODO: Implement this function that takes a PyG dataset object\n",
        "    # and return the number of features for that dataset.\n",
        "\n",
        "    num_features = 0\n",
        "\n",
        "    ############# Your code here ############\n",
        "    ## (~1 line of code)\n",
        "    ## Note\n",
        "    ## 1. Colab autocomplete functionality might be useful.\n",
        "    num_features = pyg_dataset.num_features\n",
        "    #########################################\n",
        "\n",
        "    return num_features\n",
        "\n",
        "# You may find that some information need to be stored in the dataset level,\n",
        "# specifically if there are multiple graphs in the dataset\n",
        "\n",
        "num_classes = get_num_classes(pyg_dataset)\n",
        "num_features = get_num_features(pyg_dataset)\n",
        "print(\"{} dataset has {} classes\".format(name, num_classes))\n",
        "print(\"{} dataset has {} features\".format(name, num_features))"
      ]
    },
    {
      "cell_type": "markdown",
      "metadata": {
        "id": "rwKbzhHUAckZ"
      },
      "source": [
        "## PyG Data\n",
        "\n",
        "Each PyG dataset usually stores a list of `torch_geometric.data.Data` objects. Each `torch_geometric.data.Data` object usually represents a graph. You can easily get the `Data` object by indexing on the dataset.\n",
        "\n",
        "For more information such as what will be stored in `Data` object, please refer to the [documentation](https://pytorch-geometric.readthedocs.io/en/latest/modules/data.html#torch_geometric.data.Data)."
      ]
    },
    {
      "cell_type": "markdown",
      "metadata": {
        "id": "7sCV3xJWCddX"
      },
      "source": [
        "## Question 2: What is the label of the graph (index 100 in the ENZYMES dataset)? (5 points)"
      ]
    },
    {
      "cell_type": "code",
      "execution_count": 4,
      "metadata": {
        "colab": {
          "base_uri": "https://localhost:8080/"
        },
        "id": "LIis9oTZAfs3",
        "outputId": "06aff369-c9c0-4540-87a1-f298b54498a6"
      },
      "outputs": [
        {
          "output_type": "stream",
          "name": "stdout",
          "text": [
            "Data(edge_index=[2, 168], x=[37, 3], y=[1])\n",
            "Graph with index 100 has label tensor([4])\n"
          ]
        }
      ],
      "source": [
        "def get_graph_class(pyg_dataset, idx):\n",
        "    # TODO: Implement this function that takes a PyG dataset object,\n",
        "    # the index of the graph in dataset, and returns the class/label \n",
        "    # of the graph (in integer).\n",
        "\n",
        "    label = -1\n",
        "\n",
        "    ############# Your code here ############\n",
        "    ## (~1 line of code)\n",
        "    label = pyg_dataset[idx].y\n",
        "    #########################################\n",
        "\n",
        "    return label\n",
        "\n",
        "# Here pyg_dataset is a dataset for graph classification\n",
        "graph_0 = pyg_dataset[0]\n",
        "print(graph_0)\n",
        "idx = 100\n",
        "label = get_graph_class(pyg_dataset, idx)\n",
        "print('Graph with index {} has label {}'.format(idx, label))"
      ]
    },
    {
      "cell_type": "markdown",
      "metadata": {
        "id": "fKhcVeAhCwoY"
      },
      "source": [
        "## Question 3: What is the number of edges for the graph (index 200 in the ENZYMES dataset)? (5 points)"
      ]
    },
    {
      "cell_type": "code",
      "execution_count": 5,
      "metadata": {
        "colab": {
          "base_uri": "https://localhost:8080/"
        },
        "id": "f5m2DOfhBtWv",
        "outputId": "81d8aaed-e65c-469d-ff95-9f25251c887f"
      },
      "outputs": [
        {
          "output_type": "stream",
          "name": "stdout",
          "text": [
            "Graph with index 200 has 53 edges\n"
          ]
        }
      ],
      "source": [
        "def get_graph_num_edges(pyg_dataset, idx):\n",
        "    # TODO: Implement this function that takes a PyG dataset object,\n",
        "    # the index of the graph in dataset, and returns the number of \n",
        "    # edges in the graph (in integer). You should not count an edge \n",
        "    # twice if the graph is undirected. For example, in an undirected \n",
        "    # graph G, if two nodes v and u are connected by an edge, this edge\n",
        "    # should only be counted once.\n",
        "\n",
        "    num_edges = 0\n",
        "\n",
        "    ############# Your code here ############\n",
        "    ## Note:\n",
        "    ## 1. You can't return the data.num_edges directly\n",
        "    ## 2. We assume the graph is undirected\n",
        "    ## (~4 lines of code)\n",
        "    num_edges = pyg_dataset[idx].num_edges // 2\n",
        "    #########################################\n",
        "\n",
        "    return num_edges\n",
        "\n",
        "idx = 200\n",
        "num_edges = get_graph_num_edges(pyg_dataset, idx)\n",
        "print('Graph with index {} has {} edges'.format(idx, num_edges))"
      ]
    },
    {
      "cell_type": "markdown",
      "metadata": {
        "id": "AXa7yIG4E0Fp"
      },
      "source": [
        "# 2 Open Graph Benchmark (OGB)\n",
        "\n",
        "The Open Graph Benchmark (OGB) is a collection of realistic, large-scale, and diverse benchmark datasets for machine learning on graphs. Its datasets are automatically downloaded, processed, and split using the OGB Data Loader. The model performance can also be evaluated by using the OGB Evaluator in a unified manner."
      ]
    },
    {
      "cell_type": "markdown",
      "metadata": {
        "id": "HnazPGGAJAZN"
      },
      "source": [
        "## Dataset and Data\n",
        "\n",
        "OGB also supports the PyG dataset and data. Here we take a look on the `ogbn-arxiv` dataset."
      ]
    },
    {
      "cell_type": "code",
      "execution_count": 6,
      "metadata": {
        "colab": {
          "base_uri": "https://localhost:8080/"
        },
        "id": "P6ZaUe_i0MAH",
        "outputId": "d6d7cc4f-70d9-48e6-8c36-a4dbb8bcf7fa"
      },
      "outputs": [
        {
          "output_type": "stream",
          "name": "stdout",
          "text": [
            "Collecting ogb\n",
            "  Downloading ogb-1.3.2-py3-none-any.whl (78 kB)\n",
            "\u001b[?25l\r\u001b[K     |████▏                           | 10 kB 16.4 MB/s eta 0:00:01\r\u001b[K     |████████▍                       | 20 kB 11.3 MB/s eta 0:00:01\r\u001b[K     |████████████▋                   | 30 kB 8.4 MB/s eta 0:00:01\r\u001b[K     |████████████████▊               | 40 kB 7.6 MB/s eta 0:00:01\r\u001b[K     |█████████████████████           | 51 kB 5.8 MB/s eta 0:00:01\r\u001b[K     |█████████████████████████▏      | 61 kB 5.7 MB/s eta 0:00:01\r\u001b[K     |█████████████████████████████▎  | 71 kB 5.7 MB/s eta 0:00:01\r\u001b[K     |████████████████████████████████| 78 kB 888 kB/s \n",
            "\u001b[?25hRequirement already satisfied: torch>=1.6.0 in /usr/local/lib/python3.7/dist-packages (from ogb) (1.10.0+cu111)\n",
            "Requirement already satisfied: urllib3>=1.24.0 in /usr/local/lib/python3.7/dist-packages (from ogb) (1.24.3)\n",
            "Requirement already satisfied: six>=1.12.0 in /usr/local/lib/python3.7/dist-packages (from ogb) (1.15.0)\n",
            "Collecting outdated>=0.2.0\n",
            "  Downloading outdated-0.2.1-py3-none-any.whl (7.5 kB)\n",
            "Requirement already satisfied: scikit-learn>=0.20.0 in /usr/local/lib/python3.7/dist-packages (from ogb) (1.0.2)\n",
            "Requirement already satisfied: pandas>=0.24.0 in /usr/local/lib/python3.7/dist-packages (from ogb) (1.1.5)\n",
            "Requirement already satisfied: tqdm>=4.29.0 in /usr/local/lib/python3.7/dist-packages (from ogb) (4.62.3)\n",
            "Requirement already satisfied: numpy>=1.16.0 in /usr/local/lib/python3.7/dist-packages (from ogb) (1.19.5)\n",
            "Collecting littleutils\n",
            "  Downloading littleutils-0.2.2.tar.gz (6.6 kB)\n",
            "Requirement already satisfied: requests in /usr/local/lib/python3.7/dist-packages (from outdated>=0.2.0->ogb) (2.23.0)\n",
            "Requirement already satisfied: pytz>=2017.2 in /usr/local/lib/python3.7/dist-packages (from pandas>=0.24.0->ogb) (2018.9)\n",
            "Requirement already satisfied: python-dateutil>=2.7.3 in /usr/local/lib/python3.7/dist-packages (from pandas>=0.24.0->ogb) (2.8.2)\n",
            "Requirement already satisfied: threadpoolctl>=2.0.0 in /usr/local/lib/python3.7/dist-packages (from scikit-learn>=0.20.0->ogb) (3.0.0)\n",
            "Requirement already satisfied: joblib>=0.11 in /usr/local/lib/python3.7/dist-packages (from scikit-learn>=0.20.0->ogb) (1.1.0)\n",
            "Requirement already satisfied: scipy>=1.1.0 in /usr/local/lib/python3.7/dist-packages (from scikit-learn>=0.20.0->ogb) (1.4.1)\n",
            "Requirement already satisfied: typing-extensions in /usr/local/lib/python3.7/dist-packages (from torch>=1.6.0->ogb) (3.10.0.2)\n",
            "Requirement already satisfied: chardet<4,>=3.0.2 in /usr/local/lib/python3.7/dist-packages (from requests->outdated>=0.2.0->ogb) (3.0.4)\n",
            "Requirement already satisfied: certifi>=2017.4.17 in /usr/local/lib/python3.7/dist-packages (from requests->outdated>=0.2.0->ogb) (2021.10.8)\n",
            "Requirement already satisfied: idna<3,>=2.5 in /usr/local/lib/python3.7/dist-packages (from requests->outdated>=0.2.0->ogb) (2.10)\n",
            "Building wheels for collected packages: littleutils\n",
            "  Building wheel for littleutils (setup.py) ... \u001b[?25l\u001b[?25hdone\n",
            "  Created wheel for littleutils: filename=littleutils-0.2.2-py3-none-any.whl size=7048 sha256=02db7d60b8f7017e777e6d3b2f6a3c2e2a272617e06ef5af173df8fe144773ae\n",
            "  Stored in directory: /root/.cache/pip/wheels/d6/64/cd/32819b511a488e4993f2fab909a95330289c3f4e0f6ef4676d\n",
            "Successfully built littleutils\n",
            "Installing collected packages: littleutils, outdated, ogb\n",
            "Successfully installed littleutils-0.2.2 ogb-1.3.2 outdated-0.2.1\n"
          ]
        }
      ],
      "source": [
        "!pip install ogb"
      ]
    },
    {
      "cell_type": "markdown",
      "metadata": {
        "id": "2l5nOuT154G0"
      },
      "source": [
        "-The data path `/content/drive/MyDrive/KOBBY/Datasets`"
      ]
    },
    {
      "cell_type": "code",
      "execution_count": 7,
      "metadata": {
        "colab": {
          "base_uri": "https://localhost:8080/"
        },
        "id": "Gpc6bTm3GF02",
        "outputId": "6fadff8e-bc6e-46b5-824f-66cb8055515f"
      },
      "outputs": [
        {
          "output_type": "stream",
          "name": "stdout",
          "text": [
            "Downloading http://snap.stanford.edu/ogb/data/nodeproppred/arxiv.zip\n"
          ]
        },
        {
          "output_type": "stream",
          "name": "stderr",
          "text": [
            "Downloaded 0.08 GB: 100%|██████████| 81/81 [00:02<00:00, 28.91it/s]\n"
          ]
        },
        {
          "output_type": "stream",
          "name": "stdout",
          "text": [
            "Extracting dataset/arxiv.zip\n"
          ]
        },
        {
          "output_type": "stream",
          "name": "stderr",
          "text": [
            "Processing...\n"
          ]
        },
        {
          "output_type": "stream",
          "name": "stdout",
          "text": [
            "Loading necessary files...\n",
            "This might take a while.\n",
            "Processing graphs...\n"
          ]
        },
        {
          "output_type": "stream",
          "name": "stderr",
          "text": [
            "100%|██████████| 1/1 [00:00<00:00, 6087.52it/s]\n"
          ]
        },
        {
          "output_type": "stream",
          "name": "stdout",
          "text": [
            "Converting graphs into PyG objects...\n"
          ]
        },
        {
          "output_type": "stream",
          "name": "stderr",
          "text": [
            "100%|██████████| 1/1 [00:00<00:00, 4084.04it/s]"
          ]
        },
        {
          "output_type": "stream",
          "name": "stdout",
          "text": [
            "Saving...\n"
          ]
        },
        {
          "output_type": "stream",
          "name": "stderr",
          "text": [
            "\n",
            "Done!\n"
          ]
        },
        {
          "output_type": "stream",
          "name": "stdout",
          "text": [
            "The ogbn-arxiv dataset has 1 graph\n",
            "Data(x=[169343, 128], node_year=[169343, 1], y=[169343, 1], adj_t=[169343, 169343, nnz=1166243])\n"
          ]
        }
      ],
      "source": [
        "import torch_geometric.transforms as T\n",
        "from ogb.nodeproppred import PygNodePropPredDataset\n",
        "\n",
        "dataset_name = 'ogbn-arxiv'\n",
        "# Load the dataset and transform it to sparse tensor\n",
        "dataset = PygNodePropPredDataset(name=dataset_name,\n",
        "                                 transform=T.ToSparseTensor())\n",
        "print('The {} dataset has {} graph'.format(dataset_name, len(dataset)))\n",
        "\n",
        "# Extract the graph\n",
        "data = dataset[0]\n",
        "print(data)"
      ]
    },
    {
      "cell_type": "markdown",
      "metadata": {
        "id": "Cw0xZJKZI-n3"
      },
      "source": [
        "## Question 4: What is the number of features in the ogbn-arxiv graph? (5 points)"
      ]
    },
    {
      "cell_type": "code",
      "execution_count": 8,
      "metadata": {
        "colab": {
          "base_uri": "https://localhost:8080/"
        },
        "id": "ZP844_nT2ZJl",
        "outputId": "0645f691-24bf-4ef4-e9c9-a71f4efc6716"
      },
      "outputs": [
        {
          "output_type": "stream",
          "name": "stdout",
          "text": [
            "The graph has 128 features\n"
          ]
        }
      ],
      "source": [
        "def graph_num_features(data):\n",
        "    # TODO: Implement this function that takes a PyG data object,\n",
        "    # and returns the number of features in the graph (in integer).\n",
        "\n",
        "    num_features = 0\n",
        "\n",
        "    ############# Your code here ############\n",
        "    ## (~1 line of code)\n",
        "    num_features = data.x.shape[1]\n",
        "    #########################################\n",
        "\n",
        "    return num_features\n",
        "\n",
        "num_features = graph_num_features(data)\n",
        "print('The graph has {} features'.format(num_features))"
      ]
    },
    {
      "cell_type": "code",
      "execution_count": 9,
      "metadata": {
        "colab": {
          "base_uri": "https://localhost:8080/"
        },
        "id": "nGn1q2Vy6bJJ",
        "outputId": "32d2947c-a62f-4b59-831f-2b8ec71df759"
      },
      "outputs": [
        {
          "output_type": "stream",
          "name": "stdout",
          "text": [
            "tensor([-0.0579, -0.0525, -0.0726, -0.0266,  0.1304, -0.2414, -0.4492, -0.0184,\n",
            "        -0.0872,  0.1123, -0.0921, -0.2896, -0.0810,  0.0745, -0.1562, -0.0974,\n",
            "         0.1194,  0.6458,  0.0774, -0.0939, -0.4004,  0.3114, -0.5418,  0.0805,\n",
            "        -0.0069,  0.5423, -0.0122, -0.1808,  0.0165,  0.0508, -0.2083, -0.0870,\n",
            "         0.0124,  0.2817,  0.1004, -0.1643,  0.0269,  0.0782,  0.0795, -0.0134,\n",
            "         0.2915,  0.0416, -0.1414, -0.1345,  0.0162,  0.2810, -0.0919, -0.2403,\n",
            "         0.4618,  0.1873,  0.1533,  0.0331,  0.0108,  0.0124, -0.1589,  0.0980,\n",
            "         0.0305,  0.0162, -0.0957,  0.0521,  0.3218, -0.1057,  0.2229, -0.1206,\n",
            "        -0.1723,  0.3954,  0.0883, -0.2219,  0.2310, -0.2096, -0.1125, -0.0644,\n",
            "         0.0697, -0.1574,  0.0223, -0.4190,  0.1344,  0.2605,  0.0417, -0.0935,\n",
            "        -0.0516, -0.0255,  0.7744,  0.0581,  0.0452,  0.0571, -0.5482, -0.0464,\n",
            "         0.8728,  0.0119,  0.3891, -0.0859,  0.1116,  0.0618,  0.0015,  0.0476,\n",
            "         0.0363,  0.2586,  0.2359, -0.0290, -0.1415,  0.7106, -0.0571, -0.1174,\n",
            "         0.3059,  0.1670, -0.1990,  0.1276,  0.0270,  0.5458, -0.1917, -0.0696,\n",
            "        -0.1111,  0.1142,  0.1162, -0.0159,  0.1159, -0.0624,  0.2115, -0.2261,\n",
            "        -0.1856,  0.0532,  0.3329,  0.1042,  0.0074,  0.1734, -0.1728, -0.1401])\n",
            "... and has shape: torch.Size([128])\n"
          ]
        }
      ],
      "source": [
        "# Sample features\n",
        "# Node `0` features\n",
        "print(data.x[0])\n",
        "print(f\"... and has shape: {data.x[0].size()}\")"
      ]
    },
    {
      "cell_type": "markdown",
      "metadata": {
        "id": "9DP_yEQZ0NVW"
      },
      "source": [
        "# 3 GNN: Node Property Prediction\n",
        "\n",
        "In this section we will build our first graph neural network by using PyTorch Geometric and apply it on node property prediction (node classification).\n",
        "\n",
        "We will build the graph neural network by using GCN operator ([Kipf et al. (2017)](https://arxiv.org/pdf/1609.02907.pdf)).\n",
        "\n",
        "You should use the PyG built-in `GCNConv` layer directly. "
      ]
    },
    {
      "cell_type": "markdown",
      "metadata": {
        "id": "O4CcOUEoInjD"
      },
      "source": [
        "## Setup"
      ]
    },
    {
      "cell_type": "code",
      "execution_count": 10,
      "metadata": {
        "colab": {
          "base_uri": "https://localhost:8080/"
        },
        "id": "-DCtgcHpGIpd",
        "outputId": "96c41ca0-5665-42fa-fa76-b1741c86e30e"
      },
      "outputs": [
        {
          "output_type": "stream",
          "name": "stdout",
          "text": [
            "1.10.0+cu111\n"
          ]
        }
      ],
      "source": [
        "import torch\n",
        "import torch.nn as nn\n",
        "import torch.nn.functional as F\n",
        "print(torch.__version__)\n",
        "\n",
        "# The PyG built-in GCNConv\n",
        "from torch_geometric.nn import GCNConv\n",
        "\n",
        "import torch_geometric.transforms as T\n",
        "from ogb.nodeproppred import PygNodePropPredDataset, Evaluator"
      ]
    },
    {
      "cell_type": "markdown",
      "metadata": {
        "id": "0IK9z0wQIwzQ"
      },
      "source": [
        "## Load and Preprocess the Dataset"
      ]
    },
    {
      "cell_type": "code",
      "execution_count": 11,
      "metadata": {
        "colab": {
          "base_uri": "https://localhost:8080/"
        },
        "id": "0ibJ0ieoIwQM",
        "outputId": "37350904-d824-4cf2-95c1-4280992f149e"
      },
      "outputs": [
        {
          "output_type": "stream",
          "name": "stdout",
          "text": [
            "Device: cuda\n"
          ]
        }
      ],
      "source": [
        "dataset_name = 'ogbn-arxiv'\n",
        "dataset = PygNodePropPredDataset(name=dataset_name,\n",
        "                                 transform=T.ToSparseTensor())\n",
        "data = dataset[0]\n",
        "\n",
        "# Make the adjacency matrix to symmetric\n",
        "data.adj_t = data.adj_t.to_symmetric()\n",
        "\n",
        "device = 'cuda' if torch.cuda.is_available() else 'cpu'\n",
        "\n",
        "# If you use GPU, the device should be cuda\n",
        "print('Device: {}'.format(device))\n",
        "\n",
        "# move the data to gpu\n",
        "data = data.to(device)\n",
        "\n",
        "#  `dataset.get_idx_split()` has the data partition indexes for train, test and validation splits\n",
        "split_idx = dataset.get_idx_split()\n",
        "\n",
        "# get the train index only\n",
        "train_idx = split_idx['train'].to(device)"
      ]
    },
    {
      "cell_type": "markdown",
      "metadata": {
        "id": "OgUA815bNJ8w"
      },
      "source": [
        "## GCN Model\n",
        "\n",
        "Now we will implement our GCN model!\n",
        "\n",
        "Please follow the figure below to implement your `forward` function.\n",
        "\n",
        "\n",
        "![test](https://drive.google.com/uc?id=128AuYAXNXGg7PIhJJ7e420DoPWKb-RtL)"
      ]
    },
    {
      "cell_type": "code",
      "execution_count": 12,
      "metadata": {
        "id": "IgspXTYpNJLA"
      },
      "outputs": [],
      "source": [
        "class GCN(torch.nn.Module):\n",
        "    def __init__(self, input_dim, hidden_dim, output_dim, num_layers,\n",
        "                 dropout, return_embeds=False):\n",
        "        # TODO: Implement this function that initializes self.convs, \n",
        "        # self.bns, and self.softmax.\n",
        "\n",
        "        super(GCN, self).__init__()\n",
        "\n",
        "        # A list of GCNConv layers\n",
        "        self.convs = None\n",
        "\n",
        "        # A list of 1D batch normalization layers\n",
        "        self.bns = None\n",
        "\n",
        "        # The log softmax layer\n",
        "        self.softmax = None\n",
        "        \n",
        "        self.num_layers = num_layers\n",
        "\n",
        "        ############# Your code here ############\n",
        "        ## Note:\n",
        "        ## 1. You should use torch.nn.ModuleList for self.convs and self.bns\n",
        "        ## 2. self.convs has num_layers GCNConv layers\n",
        "        ## 3. self.bns has num_layers - 1 BatchNorm1d layers\n",
        "        ## 4. You should use torch.nn.LogSoftmax for self.softmax\n",
        "        ## 5. The parameters you can set for GCNConv include 'in_channels' and \n",
        "        ## 'out_channels'. More information please refer to the documentation:\n",
        "        ## https://pytorch-geometric.readthedocs.io/en/latest/modules/nn.html#torch_geometric.nn.conv.GCNConv\n",
        "        ## 6. The only parameter you need to set for BatchNorm1d is 'num_features'\n",
        "        ## More information please refer to the documentation: \n",
        "        ## https://pytorch.org/docs/stable/generated/torch.nn.BatchNorm1d.html\n",
        "        ## (~10 lines of code)\n",
        "        \n",
        "        self.convs = nn.ModuleList([GCNConv(input_dim, hidden_dim)])\n",
        "        self.convs.extend([GCNConv(hidden_dim, hidden_dim) for i in range(num_layers-2)]) \n",
        "        self.convs.extend([GCNConv(hidden_dim, output_dim)])\n",
        "        \n",
        "        self.bns = nn.ModuleList([nn.BatchNorm1d(hidden_dim) for i in range(num_layers-1)])\n",
        "        \n",
        "        self.softmax = nn.LogSoftmax(dim=1)\n",
        "        \n",
        "        #########################################\n",
        "\n",
        "        # Probability of an element to be zeroed\n",
        "        self.dropout = dropout\n",
        "\n",
        "        # Skip classification layer and return node embeddings\n",
        "        self.return_embeds = return_embeds\n",
        "\n",
        "    def reset_parameters(self):\n",
        "        for conv in self.convs:\n",
        "            conv.reset_parameters()\n",
        "        for bn in self.bns:\n",
        "            bn.reset_parameters()\n",
        "\n",
        "    def forward(self, x, adj_t):\n",
        "        # TODO: Implement this function that takes the feature tensor x,\n",
        "        # edge_index tensor adj_t and returns the output tensor as\n",
        "        # shown in the figure.\n",
        "\n",
        "        out = None\n",
        "\n",
        "        ############# Your code here ############\n",
        "        ## Note:\n",
        "        ## 1. Construct the network as showing in the figure\n",
        "        ## 2. torch.nn.functional.relu and torch.nn.functional.dropout are useful\n",
        "        ## More information please refer to the documentation:\n",
        "        ## https://pytorch.org/docs/stable/nn.functional.html\n",
        "        ## 3. Don't forget to set F.dropout training to self.training\n",
        "        ## 4. If return_embeds is True, then skip the last softmax layer\n",
        "        ## (~7 lines of code)\n",
        "        for i in range(self.num_layers):\n",
        "            \n",
        "            # Last Conv layer pass\n",
        "            if (i == self.num_layers-1):\n",
        "                x = self.convs[i](x, adj_t)\n",
        "                if (self.return_embeds):\n",
        "                    return x\n",
        "                x = self.softmax(x)\n",
        "                out = x\n",
        "                \n",
        "            else:\n",
        "                x = self.convs[i](x, adj_t)\n",
        "                x = self.bns[i](x)\n",
        "                x = F.relu(x)\n",
        "                x = F.dropout(x, p=self.dropout, training=self.training)\n",
        "        #########################################\n",
        "\n",
        "        return out"
      ]
    },
    {
      "cell_type": "code",
      "execution_count": 14,
      "metadata": {
        "id": "FF1hnHUhO81e"
      },
      "outputs": [],
      "source": [
        "def train(model, data, train_idx, optimizer, loss_fn):\n",
        "    # TODO: Implement this function that trains the model by \n",
        "    # using the given optimizer and loss_fn.\n",
        "    model.train()\n",
        "    loss = 0\n",
        "\n",
        "    ############# Your code here ############\n",
        "    ## Note:\n",
        "    ## 1. Zero grad the optimizer\n",
        "    ## 2. Feed the data into the model\n",
        "    ## 3. Slicing the model output and label by train_idx\n",
        "    ## 4. Feed the sliced output and label to loss_fn\n",
        "    ## (~4 lines of code)\n",
        "\n",
        "    # zero out any saved gradient\n",
        "    optimizer.zero_grad()\n",
        "\n",
        "    # make prediction, forward pass\n",
        "    out = model(data.x, data.adj_t)\n",
        "\n",
        "    # compute the loss\n",
        "    loss = loss_fn(out[train_idx], data.y[train_idx].squeeze(1))\n",
        "\n",
        "    #########################################\n",
        "\n",
        "    # compute the gradient, backprop\n",
        "    loss.backward()\n",
        "\n",
        "    # backpropagate, update the gradient\n",
        "    optimizer.step()\n",
        "\n",
        "    return loss.item()"
      ]
    },
    {
      "cell_type": "code",
      "execution_count": 15,
      "metadata": {
        "id": "aJdlrJQhPBsK"
      },
      "outputs": [],
      "source": [
        "# Test function here\n",
        "@torch.no_grad()\n",
        "def test(model, data, split_idx, evaluator):\n",
        "    # TODO: Implement this function that tests the model by \n",
        "    # using the given split_idx and evaluator.\n",
        "    model.eval()\n",
        "\n",
        "    # The output of model on all data\n",
        "    out = None\n",
        "\n",
        "    ############# Your code here ############\n",
        "    ## (~1 line of code)\n",
        "    ## Note:\n",
        "    ## 1. No index slicing here\n",
        "    out = model(data.x, data.adj_t)\n",
        "    \n",
        "\n",
        "    #########################################\n",
        "\n",
        "    y_pred = out.argmax(dim=-1, keepdim=True)\n",
        "\n",
        "    train_acc = evaluator.eval({\n",
        "        'y_true': data.y[split_idx['train']],\n",
        "        'y_pred': y_pred[split_idx['train']],\n",
        "    })['acc']\n",
        "    valid_acc = evaluator.eval({\n",
        "        'y_true': data.y[split_idx['valid']],\n",
        "        'y_pred': y_pred[split_idx['valid']],\n",
        "    })['acc']\n",
        "    test_acc = evaluator.eval({\n",
        "        'y_true': data.y[split_idx['test']],\n",
        "        'y_pred': y_pred[split_idx['test']],\n",
        "    })['acc']\n",
        "\n",
        "    return train_acc, valid_acc, test_acc"
      ]
    },
    {
      "cell_type": "code",
      "execution_count": 16,
      "metadata": {
        "colab": {
          "base_uri": "https://localhost:8080/"
        },
        "id": "o7F46xkuLiOL",
        "outputId": "66d27682-7546-48ee-9f2c-fd65f093d926"
      },
      "outputs": [
        {
          "output_type": "execute_result",
          "data": {
            "text/plain": [
              "{'device': 'cuda',\n",
              " 'dropout': 0.5,\n",
              " 'epochs': 100,\n",
              " 'hidden_dim': 256,\n",
              " 'lr': 0.01,\n",
              " 'num_layers': 3}"
            ]
          },
          "metadata": {},
          "execution_count": 16
        }
      ],
      "source": [
        "# Please do not change the args\n",
        "args = {\n",
        "    'device': device,\n",
        "    'num_layers': 3,\n",
        "    'hidden_dim': 256,\n",
        "    'dropout': 0.5,\n",
        "    'lr': 0.01,\n",
        "    'epochs': 100,\n",
        "}\n",
        "args"
      ]
    },
    {
      "cell_type": "code",
      "execution_count": 17,
      "metadata": {
        "id": "dT8RyM2cPGxM"
      },
      "outputs": [],
      "source": [
        "model = GCN(data.num_features, args['hidden_dim'],\n",
        "            dataset.num_classes, args['num_layers'],\n",
        "            args['dropout']).to(device)\n",
        "evaluator = Evaluator(name='ogbn-arxiv')"
      ]
    },
    {
      "cell_type": "code",
      "execution_count": 18,
      "metadata": {
        "colab": {
          "base_uri": "https://localhost:8080/"
        },
        "id": "qd5O5cnPPdVF",
        "outputId": "152dedba-953e-4979-c084-d54a1290b2ac",
        "scrolled": true
      },
      "outputs": [
        {
          "output_type": "stream",
          "name": "stdout",
          "text": [
            "Epoch: 01, Loss: 4.0065, Train: 17.60%, Valid: 25.27% Test: 22.98%\n",
            "Epoch: 02, Loss: 2.2533, Train: 23.12%, Valid: 21.74% Test: 27.09%\n",
            "Epoch: 03, Loss: 1.9343, Train: 40.16%, Valid: 43.59% Test: 42.52%\n",
            "Epoch: 04, Loss: 1.7857, Train: 40.01%, Valid: 39.93% Test: 38.56%\n",
            "Epoch: 05, Loss: 1.6831, Train: 39.57%, Valid: 29.66% Test: 30.23%\n",
            "Epoch: 06, Loss: 1.5848, Train: 40.18%, Valid: 29.91% Test: 32.27%\n",
            "Epoch: 07, Loss: 1.5257, Train: 38.51%, Valid: 28.47% Test: 30.97%\n",
            "Epoch: 08, Loss: 1.4560, Train: 37.61%, Valid: 28.97% Test: 31.76%\n",
            "Epoch: 09, Loss: 1.4185, Train: 37.07%, Valid: 28.24% Test: 31.07%\n",
            "Epoch: 10, Loss: 1.3870, Train: 36.85%, Valid: 27.67% Test: 30.57%\n",
            "Epoch: 11, Loss: 1.3438, Train: 37.89%, Valid: 28.88% Test: 32.05%\n",
            "Epoch: 12, Loss: 1.3153, Train: 39.25%, Valid: 29.92% Test: 32.92%\n",
            "Epoch: 13, Loss: 1.2920, Train: 40.71%, Valid: 31.10% Test: 33.66%\n",
            "Epoch: 14, Loss: 1.2634, Train: 42.40%, Valid: 32.37% Test: 34.27%\n",
            "Epoch: 15, Loss: 1.2530, Train: 44.70%, Valid: 35.67% Test: 37.77%\n",
            "Epoch: 16, Loss: 1.2345, Train: 47.93%, Valid: 42.45% Test: 45.28%\n",
            "Epoch: 17, Loss: 1.2187, Train: 51.41%, Valid: 49.54% Test: 53.35%\n",
            "Epoch: 18, Loss: 1.2074, Train: 54.87%, Valid: 55.28% Test: 58.67%\n",
            "Epoch: 19, Loss: 1.1934, Train: 58.24%, Valid: 59.13% Test: 61.01%\n",
            "Epoch: 20, Loss: 1.1785, Train: 60.63%, Valid: 60.68% Test: 61.02%\n",
            "Epoch: 21, Loss: 1.1659, Train: 62.26%, Valid: 61.71% Test: 61.14%\n",
            "Epoch: 22, Loss: 1.1543, Train: 63.59%, Valid: 63.76% Test: 63.41%\n",
            "Epoch: 23, Loss: 1.1479, Train: 64.00%, Valid: 65.17% Test: 65.82%\n",
            "Epoch: 24, Loss: 1.1387, Train: 63.58%, Valid: 65.12% Test: 66.47%\n",
            "Epoch: 25, Loss: 1.1321, Train: 63.80%, Valid: 65.14% Test: 66.55%\n",
            "Epoch: 26, Loss: 1.1206, Train: 64.76%, Valid: 65.87% Test: 66.95%\n",
            "Epoch: 27, Loss: 1.1117, Train: 65.78%, Valid: 66.26% Test: 66.62%\n",
            "Epoch: 28, Loss: 1.1051, Train: 66.34%, Valid: 66.38% Test: 66.11%\n",
            "Epoch: 29, Loss: 1.1040, Train: 66.62%, Valid: 66.45% Test: 66.22%\n",
            "Epoch: 30, Loss: 1.0942, Train: 66.76%, Valid: 66.56% Test: 66.70%\n",
            "Epoch: 31, Loss: 1.0878, Train: 67.11%, Valid: 66.82% Test: 67.12%\n",
            "Epoch: 32, Loss: 1.0808, Train: 67.55%, Valid: 67.10% Test: 67.56%\n",
            "Epoch: 33, Loss: 1.0766, Train: 68.10%, Valid: 67.75% Test: 67.77%\n",
            "Epoch: 34, Loss: 1.0708, Train: 68.52%, Valid: 68.19% Test: 67.76%\n",
            "Epoch: 35, Loss: 1.0662, Train: 68.80%, Valid: 68.24% Test: 67.51%\n",
            "Epoch: 36, Loss: 1.0656, Train: 68.88%, Valid: 68.38% Test: 67.87%\n",
            "Epoch: 37, Loss: 1.0575, Train: 69.06%, Valid: 68.51% Test: 68.05%\n",
            "Epoch: 38, Loss: 1.0518, Train: 69.28%, Valid: 68.60% Test: 68.11%\n",
            "Epoch: 39, Loss: 1.0474, Train: 69.54%, Valid: 68.77% Test: 68.12%\n",
            "Epoch: 40, Loss: 1.0437, Train: 69.83%, Valid: 68.85% Test: 68.11%\n",
            "Epoch: 41, Loss: 1.0376, Train: 70.10%, Valid: 69.44% Test: 68.61%\n",
            "Epoch: 42, Loss: 1.0326, Train: 70.26%, Valid: 69.46% Test: 68.64%\n",
            "Epoch: 43, Loss: 1.0288, Train: 70.47%, Valid: 69.69% Test: 68.75%\n",
            "Epoch: 44, Loss: 1.0256, Train: 70.53%, Valid: 69.85% Test: 68.95%\n",
            "Epoch: 45, Loss: 1.0246, Train: 70.58%, Valid: 69.88% Test: 68.93%\n",
            "Epoch: 46, Loss: 1.0195, Train: 70.65%, Valid: 69.96% Test: 69.05%\n",
            "Epoch: 47, Loss: 1.0139, Train: 70.79%, Valid: 69.91% Test: 69.12%\n",
            "Epoch: 48, Loss: 1.0136, Train: 70.88%, Valid: 69.93% Test: 69.09%\n",
            "Epoch: 49, Loss: 1.0098, Train: 71.02%, Valid: 69.95% Test: 68.99%\n",
            "Epoch: 50, Loss: 1.0090, Train: 71.20%, Valid: 70.01% Test: 69.02%\n",
            "Epoch: 51, Loss: 1.0056, Train: 71.37%, Valid: 70.31% Test: 69.40%\n",
            "Epoch: 52, Loss: 1.0001, Train: 71.46%, Valid: 70.62% Test: 69.84%\n",
            "Epoch: 53, Loss: 0.9981, Train: 71.51%, Valid: 70.80% Test: 70.00%\n",
            "Epoch: 54, Loss: 0.9973, Train: 71.60%, Valid: 70.73% Test: 69.96%\n",
            "Epoch: 55, Loss: 0.9912, Train: 71.70%, Valid: 70.68% Test: 69.83%\n",
            "Epoch: 56, Loss: 0.9907, Train: 71.68%, Valid: 70.46% Test: 69.35%\n",
            "Epoch: 57, Loss: 0.9887, Train: 71.66%, Valid: 70.33% Test: 69.37%\n",
            "Epoch: 58, Loss: 0.9855, Train: 71.75%, Valid: 70.48% Test: 69.36%\n",
            "Epoch: 59, Loss: 0.9851, Train: 71.93%, Valid: 70.53% Test: 69.07%\n",
            "Epoch: 60, Loss: 0.9822, Train: 72.11%, Valid: 70.72% Test: 69.19%\n",
            "Epoch: 61, Loss: 0.9769, Train: 72.24%, Valid: 71.17% Test: 70.32%\n",
            "Epoch: 62, Loss: 0.9759, Train: 72.17%, Valid: 71.22% Test: 70.78%\n",
            "Epoch: 63, Loss: 0.9723, Train: 72.31%, Valid: 71.25% Test: 70.39%\n",
            "Epoch: 64, Loss: 0.9735, Train: 72.34%, Valid: 70.75% Test: 69.31%\n",
            "Epoch: 65, Loss: 0.9674, Train: 72.27%, Valid: 70.34% Test: 68.57%\n",
            "Epoch: 66, Loss: 0.9704, Train: 72.30%, Valid: 70.26% Test: 68.91%\n",
            "Epoch: 67, Loss: 0.9654, Train: 72.28%, Valid: 71.04% Test: 70.22%\n",
            "Epoch: 68, Loss: 0.9628, Train: 72.47%, Valid: 71.37% Test: 70.50%\n",
            "Epoch: 69, Loss: 0.9609, Train: 72.56%, Valid: 71.23% Test: 69.63%\n",
            "Epoch: 70, Loss: 0.9610, Train: 72.56%, Valid: 70.95% Test: 69.27%\n",
            "Epoch: 71, Loss: 0.9578, Train: 72.68%, Valid: 71.30% Test: 70.42%\n",
            "Epoch: 72, Loss: 0.9540, Train: 72.71%, Valid: 71.35% Test: 70.63%\n",
            "Epoch: 73, Loss: 0.9552, Train: 72.72%, Valid: 71.30% Test: 70.63%\n",
            "Epoch: 74, Loss: 0.9514, Train: 72.85%, Valid: 71.33% Test: 70.14%\n",
            "Epoch: 75, Loss: 0.9482, Train: 72.91%, Valid: 71.24% Test: 70.03%\n",
            "Epoch: 76, Loss: 0.9507, Train: 72.93%, Valid: 71.50% Test: 70.46%\n",
            "Epoch: 77, Loss: 0.9495, Train: 72.97%, Valid: 71.36% Test: 70.39%\n",
            "Epoch: 78, Loss: 0.9436, Train: 73.06%, Valid: 71.27% Test: 69.73%\n",
            "Epoch: 79, Loss: 0.9406, Train: 73.18%, Valid: 71.27% Test: 69.71%\n",
            "Epoch: 80, Loss: 0.9406, Train: 73.19%, Valid: 71.68% Test: 70.39%\n",
            "Epoch: 81, Loss: 0.9382, Train: 73.03%, Valid: 71.78% Test: 70.95%\n",
            "Epoch: 82, Loss: 0.9382, Train: 72.97%, Valid: 71.71% Test: 71.13%\n",
            "Epoch: 83, Loss: 0.9351, Train: 73.17%, Valid: 71.53% Test: 70.66%\n",
            "Epoch: 84, Loss: 0.9331, Train: 73.29%, Valid: 71.11% Test: 69.63%\n",
            "Epoch: 85, Loss: 0.9339, Train: 73.38%, Valid: 71.29% Test: 69.64%\n",
            "Epoch: 86, Loss: 0.9299, Train: 73.35%, Valid: 71.33% Test: 69.81%\n",
            "Epoch: 87, Loss: 0.9315, Train: 73.36%, Valid: 71.55% Test: 70.21%\n",
            "Epoch: 88, Loss: 0.9264, Train: 73.23%, Valid: 71.73% Test: 71.01%\n",
            "Epoch: 89, Loss: 0.9259, Train: 73.36%, Valid: 71.85% Test: 70.77%\n",
            "Epoch: 90, Loss: 0.9243, Train: 73.34%, Valid: 71.22% Test: 69.45%\n",
            "Epoch: 91, Loss: 0.9241, Train: 73.38%, Valid: 71.03% Test: 69.04%\n",
            "Epoch: 92, Loss: 0.9211, Train: 73.49%, Valid: 71.27% Test: 69.52%\n",
            "Epoch: 93, Loss: 0.9186, Train: 73.65%, Valid: 71.50% Test: 69.85%\n",
            "Epoch: 94, Loss: 0.9200, Train: 73.60%, Valid: 71.56% Test: 70.22%\n",
            "Epoch: 95, Loss: 0.9167, Train: 73.56%, Valid: 71.68% Test: 70.78%\n",
            "Epoch: 96, Loss: 0.9162, Train: 73.63%, Valid: 71.74% Test: 70.81%\n",
            "Epoch: 97, Loss: 0.9144, Train: 73.78%, Valid: 71.70% Test: 70.75%\n",
            "Epoch: 98, Loss: 0.9140, Train: 73.91%, Valid: 71.33% Test: 69.70%\n",
            "Epoch: 99, Loss: 0.9126, Train: 73.96%, Valid: 71.76% Test: 70.57%\n",
            "Epoch: 100, Loss: 0.9082, Train: 73.87%, Valid: 72.12% Test: 71.16%\n"
          ]
        }
      ],
      "source": [
        "import copy\n",
        "\n",
        "# reset the parameters to initial random value\n",
        "model.reset_parameters()\n",
        "\n",
        "optimizer = torch.optim.Adam(model.parameters(), lr=args['lr'])\n",
        "loss_fn = F.nll_loss\n",
        "\n",
        "best_model = None\n",
        "best_valid_acc = 0\n",
        "\n",
        "for epoch in range(1, 1 + args[\"epochs\"]):\n",
        "    loss = train(model, data, train_idx, optimizer, loss_fn) # train model\n",
        "    result = test(model, data, split_idx, evaluator) # test model\n",
        "    train_acc, valid_acc, test_acc = result\n",
        "    if valid_acc > best_valid_acc:\n",
        "        best_valid_acc = valid_acc\n",
        "        best_model = copy.deepcopy(model)\n",
        "    print(f'Epoch: {epoch:02d}, '\n",
        "        f'Loss: {loss:.4f}, '\n",
        "        f'Train: {100 * train_acc:.2f}%, '\n",
        "        f'Valid: {100 * valid_acc:.2f}% '\n",
        "        f'Test: {100 * test_acc:.2f}%')"
      ]
    },
    {
      "cell_type": "code",
      "execution_count": 19,
      "metadata": {
        "colab": {
          "base_uri": "https://localhost:8080/"
        },
        "id": "EqcextqOL2FX",
        "outputId": "fb60f266-0b0c-45a0-bedf-d3bd6d693fad"
      },
      "outputs": [
        {
          "output_type": "stream",
          "name": "stdout",
          "text": [
            "Best model: Train: 73.87%, Valid: 72.12% Test: 71.16%\n"
          ]
        }
      ],
      "source": [
        "best_result = test(best_model, data, split_idx, evaluator)\n",
        "train_acc, valid_acc, test_acc = best_result\n",
        "print(f'Best model: '\n",
        "      f'Train: {100 * train_acc:.2f}%, '\n",
        "      f'Valid: {100 * valid_acc:.2f}% '\n",
        "      f'Test: {100 * test_acc:.2f}%')"
      ]
    },
    {
      "cell_type": "markdown",
      "metadata": {
        "id": "duMEg-olLjbJ"
      },
      "source": [
        "## Question 5: What are your `best_model` validation and test accuracy? Please report them on Gradescope. For example, for an accuracy such as 50.01%, just report 50.01 and please don't include the percent sign. (20 points)"
      ]
    },
    {
      "cell_type": "markdown",
      "metadata": {
        "id": "R8pOD6y80TyI"
      },
      "source": [
        "# 4 GNN: Graph Property Prediction\n",
        "\n",
        "In this section we will create a graph neural network for graph property prediction (graph classification)\n"
      ]
    },
    {
      "cell_type": "markdown",
      "metadata": {
        "id": "vRg5VOEdQTa4"
      },
      "source": [
        "## Load and preprocess the dataset"
      ]
    },
    {
      "cell_type": "code",
      "execution_count": 20,
      "metadata": {
        "colab": {
          "base_uri": "https://localhost:8080/"
        },
        "id": "LXb-O5QUIgTH",
        "outputId": "4a6f8822-66d1-47b8-a191-18cf1510b6b9"
      },
      "outputs": [
        {
          "output_type": "stream",
          "name": "stdout",
          "text": [
            "Downloading http://snap.stanford.edu/ogb/data/graphproppred/csv_mol_download/hiv.zip\n"
          ]
        },
        {
          "output_type": "stream",
          "name": "stderr",
          "text": [
            "Downloaded 0.00 GB: 100%|██████████| 3/3 [00:00<00:00,  3.58it/s]\n",
            "Processing...\n"
          ]
        },
        {
          "output_type": "stream",
          "name": "stdout",
          "text": [
            "Extracting dataset/hiv.zip\n",
            "Loading necessary files...\n",
            "This might take a while.\n",
            "Processing graphs...\n"
          ]
        },
        {
          "output_type": "stream",
          "name": "stderr",
          "text": [
            "100%|██████████| 41127/41127 [00:00<00:00, 67575.25it/s]\n"
          ]
        },
        {
          "output_type": "stream",
          "name": "stdout",
          "text": [
            "Converting graphs into PyG objects...\n"
          ]
        },
        {
          "output_type": "stream",
          "name": "stderr",
          "text": [
            "100%|██████████| 41127/41127 [00:01<00:00, 36659.90it/s]\n"
          ]
        },
        {
          "output_type": "stream",
          "name": "stdout",
          "text": [
            "Saving...\n",
            "Device: cuda\n",
            "Task type: binary classification\n"
          ]
        },
        {
          "output_type": "stream",
          "name": "stderr",
          "text": [
            "Done!\n"
          ]
        }
      ],
      "source": [
        "from ogb.graphproppred import PygGraphPropPredDataset, Evaluator\n",
        "from torch_geometric.data import DataLoader\n",
        "from tqdm import tqdm\n",
        "\n",
        "# Load the dataset \n",
        "dataset = PygGraphPropPredDataset(name='ogbg-molhiv')\n",
        "\n",
        "device = 'cuda' if torch.cuda.is_available() else 'cpu'\n",
        "print('Device: {}'.format(device))\n",
        "\n",
        "split_idx = dataset.get_idx_split()\n",
        "\n",
        "# Check task type\n",
        "print('Task type: {}'.format(dataset.task_type))"
      ]
    },
    {
      "cell_type": "code",
      "source": [
        "# some details of the data\n",
        "\n",
        "print(f\"Is the graph directed?: {dataset.data.is_directed()}\")\n",
        "\n",
        "print(f\"The graph has {len(dataset.data.x)} number of nodes and {dataset.data.x.size()[1]} number  of features\")"
      ],
      "metadata": {
        "colab": {
          "base_uri": "https://localhost:8080/"
        },
        "id": "5-MZyZMbTRAe",
        "outputId": "4dd3a046-b991-47bd-d192-ede9d3c778a2"
      },
      "execution_count": 29,
      "outputs": [
        {
          "output_type": "stream",
          "name": "stdout",
          "text": [
            "Is the graph directed?: False\n",
            "The graph has 1049163 number of nodes and 9 number  of features\n"
          ]
        }
      ]
    },
    {
      "cell_type": "code",
      "source": [
        "from torch_geometric.loader import DataLoader"
      ],
      "metadata": {
        "id": "rlmagXrgVKyM"
      },
      "execution_count": 30,
      "outputs": []
    },
    {
      "cell_type": "code",
      "execution_count": 31,
      "metadata": {
        "id": "7cHHbgW1c5hi"
      },
      "outputs": [],
      "source": [
        "# Load the data sets into dataloader\n",
        "# We will train the graph classification task on a batch of 32 graphs\n",
        "# Shuffle the order of graphs for training set\n",
        "train_loader = DataLoader(dataset[split_idx[\"train\"]], batch_size=32, shuffle=True, num_workers=0)\n",
        "valid_loader = DataLoader(dataset[split_idx[\"valid\"]], batch_size=32, shuffle=False, num_workers=0)\n",
        "test_loader = DataLoader(dataset[split_idx[\"test\"]], batch_size=32, shuffle=False, num_workers=0)"
      ]
    },
    {
      "cell_type": "code",
      "execution_count": 32,
      "metadata": {
        "colab": {
          "base_uri": "https://localhost:8080/"
        },
        "id": "AYrSnOj0Y4DK",
        "outputId": "3dbc55c0-327c-46c2-eaaa-673ec6c70879",
        "scrolled": true
      },
      "outputs": [
        {
          "output_type": "execute_result",
          "data": {
            "text/plain": [
              "{'device': 'cuda',\n",
              " 'dropout': 0.5,\n",
              " 'epochs': 30,\n",
              " 'hidden_dim': 256,\n",
              " 'lr': 0.001,\n",
              " 'num_layers': 5}"
            ]
          },
          "metadata": {},
          "execution_count": 32
        }
      ],
      "source": [
        "# Please do not change the args\n",
        "args = {\n",
        "    'device': device,\n",
        "    'num_layers': 5,\n",
        "    'hidden_dim': 256,\n",
        "    'dropout': 0.5,\n",
        "    'lr': 0.001,\n",
        "    'epochs': 30,\n",
        "}\n",
        "args"
      ]
    },
    {
      "cell_type": "code",
      "execution_count": 35,
      "metadata": {
        "id": "EsDq6XLw7qbp",
        "outputId": "5b38c6c2-65e0-457d-980c-00596bcad98c",
        "colab": {
          "base_uri": "https://localhost:8080/"
        }
      },
      "outputs": [
        {
          "output_type": "execute_result",
          "data": {
            "text/plain": [
              "41127"
            ]
          },
          "metadata": {},
          "execution_count": 35
        }
      ],
      "source": [
        "len(dataset)"
      ]
    },
    {
      "cell_type": "markdown",
      "metadata": {
        "id": "7WLhguSTeazy"
      },
      "source": [
        "## Graph Prediction Model"
      ]
    },
    {
      "cell_type": "markdown",
      "metadata": {
        "id": "u05Z14TRYPGn"
      },
      "source": [
        "Now we will implement our GCN Graph Prediction model!\n",
        "\n",
        "We will reuse the existing GCN model to generate `node_embeddings` and use  Global Pooling on the nodes to predict properties for the whole graph."
      ]
    },
    {
      "cell_type": "code",
      "source": [
        "from ogb.graphproppred.mol_encoder import AtomEncoder\n",
        "from torch_geometric.nn import global_add_pool, global_mean_pool"
      ],
      "metadata": {
        "id": "hI-EJij9WWwX"
      },
      "execution_count": 34,
      "outputs": []
    },
    {
      "cell_type": "code",
      "execution_count": 37,
      "metadata": {
        "id": "3_Kq3zyjeZ22"
      },
      "outputs": [],
      "source": [
        "### GCN to predict graph property\n",
        "class GCN_Graph(torch.nn.Module):\n",
        "    def __init__(self, hidden_dim, output_dim, num_layers, dropout, pool):\n",
        "        super(GCN_Graph, self).__init__()\n",
        "\n",
        "        # Load encoders for Atoms in molecule graphs\n",
        "        self.node_encoder = AtomEncoder(hidden_dim)\n",
        "\n",
        "        # Node embedding model\n",
        "        # Note that the input_dim and output_dim are set to hidden_dim\n",
        "        self.gnn_node = GCN(hidden_dim, hidden_dim,\n",
        "            hidden_dim, num_layers, dropout, return_embeds=True)\n",
        "\n",
        "        self.pool = None\n",
        "\n",
        "        ############# Your code here ############\n",
        "        ## Note:\n",
        "        ## 1. Initialize the self.pool to global mean pooling layer\n",
        "        ## More information please refer to the documentation:\n",
        "        ## https://pytorch-geometric.readthedocs.io/en/latest/modules/nn.html#global-pooling-layers\n",
        "        ## (~1 line of code)\n",
        "#         self.pool = global_mean_pool\n",
        "        self.pool = pool\n",
        "\n",
        "        #########################################\n",
        "\n",
        "        # Output layer\n",
        "        self.linear = torch.nn.Linear(hidden_dim, output_dim)\n",
        "\n",
        "\n",
        "    def reset_parameters(self):\n",
        "        self.gnn_node.reset_parameters()\n",
        "        self.linear.reset_parameters()\n",
        "\n",
        "    def forward(self, batched_data):\n",
        "        # TODO: Implement this function that takes the input tensor batched_data,\n",
        "        # returns a batched output tensor for each graph.\n",
        "        x, edge_index, batch = batched_data.x, batched_data.edge_index, batched_data.batch\n",
        "        embed = self.node_encoder(x)\n",
        "\n",
        "        out = None\n",
        "\n",
        "        ############# Your code here ############\n",
        "        ## Note:\n",
        "        ## 1. Construct node embeddings using existing GCN model\n",
        "        ## 2. Use global pooling layer to construct features for the whole graph\n",
        "        ## More information please refer to the documentation:\n",
        "        ## https://pytorch-geometric.readthedocs.io/en/latest/modules/nn.html#global-pooling-layers\n",
        "        ## 3. Use a linear layer to predict the graph property \n",
        "        ## (~3 lines of code)\n",
        "        out = self.gnn_node(embed, edge_index)\n",
        "        out = self.pool(out, batch)\n",
        "        out = self.linear(out)\n",
        "\n",
        "        #########################################\n",
        "\n",
        "        return out"
      ]
    },
    {
      "cell_type": "code",
      "execution_count": 39,
      "metadata": {
        "id": "FJjnGuMSbjX0"
      },
      "outputs": [],
      "source": [
        "def train(model, device, data_loader, optimizer, loss_fn):\n",
        "    # TODO: Implement this function that trains the model by \n",
        "    # using the given optimizer and loss_fn.\n",
        "    model.train()\n",
        "    loss = 0\n",
        "\n",
        "    for step, batch in enumerate(tqdm(data_loader, desc=\"Iteration\")):\n",
        "        batch = batch.to(device)\n",
        "\n",
        "        if batch.x.shape[0] == 1 or batch.batch[-1] == 0:\n",
        "            pass\n",
        "        else:\n",
        "            ## ignore nan targets (unlabeled) when computing training loss.\n",
        "            is_labeled = batch.y == batch.y\n",
        "\n",
        "            ############# Your code here ############\n",
        "            ## Note:\n",
        "            ## 1. Zero grad the optimizer\n",
        "            ## 2. Feed the data into the model\n",
        "            ## 3. Use `is_labeled` mask to filter output and labels\n",
        "            ## 4. You might change the type of label\n",
        "            ## 5. Feed the output and label to loss_fn\n",
        "            ## (~3 lines of code)\n",
        "            optimizer.zero_grad()\n",
        "            out = model(batch)\n",
        "            \n",
        "            loss = loss_fn(out[is_labeled], batch.y[is_labeled].type_as(out))\n",
        "            #########################################\n",
        "\n",
        "            loss.backward()\n",
        "            optimizer.step()\n",
        "\n",
        "    return loss.item()"
      ]
    },
    {
      "cell_type": "code",
      "execution_count": 40,
      "metadata": {
        "id": "ztPHXq_Gzn7U"
      },
      "outputs": [],
      "source": [
        "# The evaluation function\n",
        "def eval(model, device, loader, evaluator):\n",
        "    model.eval()\n",
        "    y_true = []\n",
        "    y_pred = []\n",
        "\n",
        "    for step, batch in enumerate(tqdm(loader, desc=\"Iteration\")):\n",
        "        batch = batch.to(device)\n",
        "\n",
        "        if batch.x.shape[0] == 1:\n",
        "            pass\n",
        "        else:\n",
        "            with torch.no_grad():\n",
        "                pred = model(batch)\n",
        "\n",
        "            y_true.append(batch.y.view(pred.shape).detach().cpu())\n",
        "            y_pred.append(pred.detach().cpu())\n",
        "\n",
        "    y_true = torch.cat(y_true, dim = 0).numpy()\n",
        "    y_pred = torch.cat(y_pred, dim = 0).numpy()\n",
        "\n",
        "    input_dict = {\"y_true\": y_true, \"y_pred\": y_pred}\n",
        "\n",
        "    return evaluator.eval(input_dict)"
      ]
    },
    {
      "cell_type": "code",
      "execution_count": 41,
      "metadata": {
        "id": "MR1wQ4hMZeMw"
      },
      "outputs": [],
      "source": [
        "model = GCN_Graph(args['hidden_dim'],\n",
        "            dataset.num_tasks, args['num_layers'],\n",
        "            args['dropout'], global_mean_pool).to(device)\n",
        "evaluator = Evaluator(name='ogbg-molhiv')"
      ]
    },
    {
      "cell_type": "code",
      "execution_count": 42,
      "metadata": {
        "colab": {
          "base_uri": "https://localhost:8080/"
        },
        "id": "qJGTNZiuZy0A",
        "outputId": "96d88124-a906-4c2b-eacc-2cf49a70bb37",
        "scrolled": true
      },
      "outputs": [
        {
          "output_type": "stream",
          "name": "stdout",
          "text": [
            "Training...\n"
          ]
        },
        {
          "output_type": "stream",
          "name": "stderr",
          "text": [
            "Iteration: 100%|██████████| 1029/1029 [00:25<00:00, 40.65it/s]\n"
          ]
        },
        {
          "output_type": "stream",
          "name": "stdout",
          "text": [
            "Evaluating...\n"
          ]
        },
        {
          "output_type": "stream",
          "name": "stderr",
          "text": [
            "Iteration: 100%|██████████| 1029/1029 [00:12<00:00, 81.20it/s]\n",
            "Iteration: 100%|██████████| 129/129 [00:02<00:00, 62.51it/s]\n",
            "Iteration: 100%|██████████| 129/129 [00:02<00:00, 62.25it/s]\n"
          ]
        },
        {
          "output_type": "stream",
          "name": "stdout",
          "text": [
            "Epoch: 01, Loss: 0.0399, Train: 69.30%, Valid: 71.80% Test: 70.19%\n",
            "Training...\n"
          ]
        },
        {
          "output_type": "stream",
          "name": "stderr",
          "text": [
            "Iteration: 100%|██████████| 1029/1029 [00:31<00:00, 33.03it/s]\n"
          ]
        },
        {
          "output_type": "stream",
          "name": "stdout",
          "text": [
            "Evaluating...\n"
          ]
        },
        {
          "output_type": "stream",
          "name": "stderr",
          "text": [
            "Iteration: 100%|██████████| 1029/1029 [00:15<00:00, 65.21it/s]\n",
            "Iteration: 100%|██████████| 129/129 [00:01<00:00, 79.55it/s]\n",
            "Iteration: 100%|██████████| 129/129 [00:01<00:00, 82.74it/s]\n"
          ]
        },
        {
          "output_type": "stream",
          "name": "stdout",
          "text": [
            "Epoch: 02, Loss: 0.0593, Train: 72.94%, Valid: 71.54% Test: 66.70%\n",
            "Training...\n"
          ]
        },
        {
          "output_type": "stream",
          "name": "stderr",
          "text": [
            "Iteration: 100%|██████████| 1029/1029 [00:21<00:00, 48.31it/s]\n"
          ]
        },
        {
          "output_type": "stream",
          "name": "stdout",
          "text": [
            "Evaluating...\n"
          ]
        },
        {
          "output_type": "stream",
          "name": "stderr",
          "text": [
            "Iteration: 100%|██████████| 1029/1029 [00:12<00:00, 84.44it/s]\n",
            "Iteration: 100%|██████████| 129/129 [00:01<00:00, 81.35it/s]\n",
            "Iteration: 100%|██████████| 129/129 [00:01<00:00, 80.46it/s]\n"
          ]
        },
        {
          "output_type": "stream",
          "name": "stdout",
          "text": [
            "Epoch: 03, Loss: 0.4723, Train: 75.95%, Valid: 71.21% Test: 71.68%\n",
            "Training...\n"
          ]
        },
        {
          "output_type": "stream",
          "name": "stderr",
          "text": [
            "Iteration: 100%|██████████| 1029/1029 [00:21<00:00, 47.53it/s]\n"
          ]
        },
        {
          "output_type": "stream",
          "name": "stdout",
          "text": [
            "Evaluating...\n"
          ]
        },
        {
          "output_type": "stream",
          "name": "stderr",
          "text": [
            "Iteration: 100%|██████████| 1029/1029 [00:12<00:00, 84.44it/s]\n",
            "Iteration: 100%|██████████| 129/129 [00:01<00:00, 82.80it/s]\n",
            "Iteration: 100%|██████████| 129/129 [00:01<00:00, 83.35it/s]\n"
          ]
        },
        {
          "output_type": "stream",
          "name": "stdout",
          "text": [
            "Epoch: 04, Loss: 0.0267, Train: 77.58%, Valid: 72.39% Test: 68.36%\n",
            "Training...\n"
          ]
        },
        {
          "output_type": "stream",
          "name": "stderr",
          "text": [
            "Iteration: 100%|██████████| 1029/1029 [00:22<00:00, 45.47it/s]\n"
          ]
        },
        {
          "output_type": "stream",
          "name": "stdout",
          "text": [
            "Evaluating...\n"
          ]
        },
        {
          "output_type": "stream",
          "name": "stderr",
          "text": [
            "Iteration: 100%|██████████| 1029/1029 [00:12<00:00, 83.95it/s]\n",
            "Iteration: 100%|██████████| 129/129 [00:01<00:00, 83.95it/s]\n",
            "Iteration: 100%|██████████| 129/129 [00:01<00:00, 83.74it/s]\n"
          ]
        },
        {
          "output_type": "stream",
          "name": "stdout",
          "text": [
            "Epoch: 05, Loss: 0.6822, Train: 77.88%, Valid: 76.89% Test: 70.75%\n",
            "Training...\n"
          ]
        },
        {
          "output_type": "stream",
          "name": "stderr",
          "text": [
            "Iteration: 100%|██████████| 1029/1029 [00:21<00:00, 48.15it/s]\n"
          ]
        },
        {
          "output_type": "stream",
          "name": "stdout",
          "text": [
            "Evaluating...\n"
          ]
        },
        {
          "output_type": "stream",
          "name": "stderr",
          "text": [
            "Iteration: 100%|██████████| 1029/1029 [00:12<00:00, 82.37it/s]\n",
            "Iteration: 100%|██████████| 129/129 [00:01<00:00, 80.12it/s]\n",
            "Iteration: 100%|██████████| 129/129 [00:01<00:00, 82.39it/s]\n"
          ]
        },
        {
          "output_type": "stream",
          "name": "stdout",
          "text": [
            "Epoch: 06, Loss: 0.0410, Train: 77.07%, Valid: 74.68% Test: 70.63%\n",
            "Training...\n"
          ]
        },
        {
          "output_type": "stream",
          "name": "stderr",
          "text": [
            "Iteration: 100%|██████████| 1029/1029 [00:21<00:00, 48.16it/s]\n"
          ]
        },
        {
          "output_type": "stream",
          "name": "stdout",
          "text": [
            "Evaluating...\n"
          ]
        },
        {
          "output_type": "stream",
          "name": "stderr",
          "text": [
            "Iteration: 100%|██████████| 1029/1029 [00:12<00:00, 84.13it/s]\n",
            "Iteration: 100%|██████████| 129/129 [00:01<00:00, 80.53it/s]\n",
            "Iteration: 100%|██████████| 129/129 [00:01<00:00, 82.54it/s]\n"
          ]
        },
        {
          "output_type": "stream",
          "name": "stdout",
          "text": [
            "Epoch: 07, Loss: 0.0737, Train: 78.50%, Valid: 75.58% Test: 69.78%\n",
            "Training...\n"
          ]
        },
        {
          "output_type": "stream",
          "name": "stderr",
          "text": [
            "Iteration: 100%|██████████| 1029/1029 [00:21<00:00, 48.40it/s]\n"
          ]
        },
        {
          "output_type": "stream",
          "name": "stdout",
          "text": [
            "Evaluating...\n"
          ]
        },
        {
          "output_type": "stream",
          "name": "stderr",
          "text": [
            "Iteration: 100%|██████████| 1029/1029 [00:12<00:00, 84.70it/s]\n",
            "Iteration: 100%|██████████| 129/129 [00:01<00:00, 83.32it/s]\n",
            "Iteration: 100%|██████████| 129/129 [00:01<00:00, 83.21it/s]\n"
          ]
        },
        {
          "output_type": "stream",
          "name": "stdout",
          "text": [
            "Epoch: 08, Loss: 0.0420, Train: 78.49%, Valid: 76.17% Test: 68.06%\n",
            "Training...\n"
          ]
        },
        {
          "output_type": "stream",
          "name": "stderr",
          "text": [
            "Iteration: 100%|██████████| 1029/1029 [00:21<00:00, 47.63it/s]\n"
          ]
        },
        {
          "output_type": "stream",
          "name": "stdout",
          "text": [
            "Evaluating...\n"
          ]
        },
        {
          "output_type": "stream",
          "name": "stderr",
          "text": [
            "Iteration: 100%|██████████| 1029/1029 [00:12<00:00, 84.65it/s]\n",
            "Iteration: 100%|██████████| 129/129 [00:01<00:00, 85.55it/s]\n",
            "Iteration: 100%|██████████| 129/129 [00:01<00:00, 84.93it/s]\n"
          ]
        },
        {
          "output_type": "stream",
          "name": "stdout",
          "text": [
            "Epoch: 09, Loss: 0.0239, Train: 79.94%, Valid: 76.61% Test: 73.11%\n",
            "Training...\n"
          ]
        },
        {
          "output_type": "stream",
          "name": "stderr",
          "text": [
            "Iteration: 100%|██████████| 1029/1029 [00:21<00:00, 48.46it/s]\n"
          ]
        },
        {
          "output_type": "stream",
          "name": "stdout",
          "text": [
            "Evaluating...\n"
          ]
        },
        {
          "output_type": "stream",
          "name": "stderr",
          "text": [
            "Iteration: 100%|██████████| 1029/1029 [00:12<00:00, 84.91it/s]\n",
            "Iteration: 100%|██████████| 129/129 [00:01<00:00, 81.46it/s]\n",
            "Iteration: 100%|██████████| 129/129 [00:01<00:00, 83.60it/s]\n"
          ]
        },
        {
          "output_type": "stream",
          "name": "stdout",
          "text": [
            "Epoch: 10, Loss: 0.0685, Train: 79.43%, Valid: 74.84% Test: 69.97%\n",
            "Training...\n"
          ]
        },
        {
          "output_type": "stream",
          "name": "stderr",
          "text": [
            "Iteration: 100%|██████████| 1029/1029 [00:21<00:00, 48.51it/s]\n"
          ]
        },
        {
          "output_type": "stream",
          "name": "stdout",
          "text": [
            "Evaluating...\n"
          ]
        },
        {
          "output_type": "stream",
          "name": "stderr",
          "text": [
            "Iteration: 100%|██████████| 1029/1029 [00:12<00:00, 84.59it/s]\n",
            "Iteration: 100%|██████████| 129/129 [00:01<00:00, 84.04it/s]\n",
            "Iteration: 100%|██████████| 129/129 [00:01<00:00, 84.34it/s]\n"
          ]
        },
        {
          "output_type": "stream",
          "name": "stdout",
          "text": [
            "Epoch: 11, Loss: 0.0258, Train: 80.46%, Valid: 76.57% Test: 73.01%\n",
            "Training...\n"
          ]
        },
        {
          "output_type": "stream",
          "name": "stderr",
          "text": [
            "Iteration: 100%|██████████| 1029/1029 [00:21<00:00, 47.76it/s]\n"
          ]
        },
        {
          "output_type": "stream",
          "name": "stdout",
          "text": [
            "Evaluating...\n"
          ]
        },
        {
          "output_type": "stream",
          "name": "stderr",
          "text": [
            "Iteration: 100%|██████████| 1029/1029 [00:12<00:00, 83.72it/s]\n",
            "Iteration: 100%|██████████| 129/129 [00:01<00:00, 81.71it/s]\n",
            "Iteration: 100%|██████████| 129/129 [00:01<00:00, 85.55it/s]\n"
          ]
        },
        {
          "output_type": "stream",
          "name": "stdout",
          "text": [
            "Epoch: 12, Loss: 0.0147, Train: 80.56%, Valid: 73.97% Test: 71.03%\n",
            "Training...\n"
          ]
        },
        {
          "output_type": "stream",
          "name": "stderr",
          "text": [
            "Iteration: 100%|██████████| 1029/1029 [00:21<00:00, 47.62it/s]\n"
          ]
        },
        {
          "output_type": "stream",
          "name": "stdout",
          "text": [
            "Evaluating...\n"
          ]
        },
        {
          "output_type": "stream",
          "name": "stderr",
          "text": [
            "Iteration: 100%|██████████| 1029/1029 [00:12<00:00, 83.93it/s]\n",
            "Iteration: 100%|██████████| 129/129 [00:01<00:00, 83.33it/s]\n",
            "Iteration: 100%|██████████| 129/129 [00:01<00:00, 78.48it/s]\n"
          ]
        },
        {
          "output_type": "stream",
          "name": "stdout",
          "text": [
            "Epoch: 13, Loss: 0.0353, Train: 80.36%, Valid: 74.77% Test: 73.07%\n",
            "Training...\n"
          ]
        },
        {
          "output_type": "stream",
          "name": "stderr",
          "text": [
            "Iteration: 100%|██████████| 1029/1029 [00:21<00:00, 47.99it/s]\n"
          ]
        },
        {
          "output_type": "stream",
          "name": "stdout",
          "text": [
            "Evaluating...\n"
          ]
        },
        {
          "output_type": "stream",
          "name": "stderr",
          "text": [
            "Iteration: 100%|██████████| 1029/1029 [00:12<00:00, 82.92it/s]\n",
            "Iteration: 100%|██████████| 129/129 [00:01<00:00, 81.06it/s]\n",
            "Iteration: 100%|██████████| 129/129 [00:01<00:00, 83.64it/s]\n"
          ]
        },
        {
          "output_type": "stream",
          "name": "stdout",
          "text": [
            "Epoch: 14, Loss: 0.0391, Train: 80.18%, Valid: 77.40% Test: 72.09%\n",
            "Training...\n"
          ]
        },
        {
          "output_type": "stream",
          "name": "stderr",
          "text": [
            "Iteration: 100%|██████████| 1029/1029 [00:21<00:00, 48.60it/s]\n"
          ]
        },
        {
          "output_type": "stream",
          "name": "stdout",
          "text": [
            "Evaluating...\n"
          ]
        },
        {
          "output_type": "stream",
          "name": "stderr",
          "text": [
            "Iteration: 100%|██████████| 1029/1029 [00:11<00:00, 85.89it/s]\n",
            "Iteration: 100%|██████████| 129/129 [00:01<00:00, 84.65it/s]\n",
            "Iteration: 100%|██████████| 129/129 [00:01<00:00, 85.66it/s]\n"
          ]
        },
        {
          "output_type": "stream",
          "name": "stdout",
          "text": [
            "Epoch: 15, Loss: 0.0434, Train: 81.64%, Valid: 76.79% Test: 71.98%\n",
            "Training...\n"
          ]
        },
        {
          "output_type": "stream",
          "name": "stderr",
          "text": [
            "Iteration: 100%|██████████| 1029/1029 [00:20<00:00, 49.37it/s]\n"
          ]
        },
        {
          "output_type": "stream",
          "name": "stdout",
          "text": [
            "Evaluating...\n"
          ]
        },
        {
          "output_type": "stream",
          "name": "stderr",
          "text": [
            "Iteration: 100%|██████████| 1029/1029 [00:12<00:00, 84.28it/s]\n",
            "Iteration: 100%|██████████| 129/129 [00:01<00:00, 80.39it/s]\n",
            "Iteration: 100%|██████████| 129/129 [00:01<00:00, 80.58it/s]\n"
          ]
        },
        {
          "output_type": "stream",
          "name": "stdout",
          "text": [
            "Epoch: 16, Loss: 0.0185, Train: 81.10%, Valid: 75.63% Test: 73.79%\n",
            "Training...\n"
          ]
        },
        {
          "output_type": "stream",
          "name": "stderr",
          "text": [
            "Iteration: 100%|██████████| 1029/1029 [00:21<00:00, 48.76it/s]\n"
          ]
        },
        {
          "output_type": "stream",
          "name": "stdout",
          "text": [
            "Evaluating...\n"
          ]
        },
        {
          "output_type": "stream",
          "name": "stderr",
          "text": [
            "Iteration: 100%|██████████| 1029/1029 [00:12<00:00, 84.50it/s]\n",
            "Iteration: 100%|██████████| 129/129 [00:01<00:00, 82.37it/s]\n",
            "Iteration: 100%|██████████| 129/129 [00:01<00:00, 85.91it/s]\n"
          ]
        },
        {
          "output_type": "stream",
          "name": "stdout",
          "text": [
            "Epoch: 17, Loss: 0.0240, Train: 81.46%, Valid: 76.68% Test: 71.39%\n",
            "Training...\n"
          ]
        },
        {
          "output_type": "stream",
          "name": "stderr",
          "text": [
            "Iteration: 100%|██████████| 1029/1029 [00:21<00:00, 48.29it/s]\n"
          ]
        },
        {
          "output_type": "stream",
          "name": "stdout",
          "text": [
            "Evaluating...\n"
          ]
        },
        {
          "output_type": "stream",
          "name": "stderr",
          "text": [
            "Iteration: 100%|██████████| 1029/1029 [00:12<00:00, 81.15it/s]\n",
            "Iteration: 100%|██████████| 129/129 [00:01<00:00, 81.19it/s]\n",
            "Iteration: 100%|██████████| 129/129 [00:01<00:00, 82.43it/s]\n"
          ]
        },
        {
          "output_type": "stream",
          "name": "stdout",
          "text": [
            "Epoch: 18, Loss: 0.0264, Train: 81.85%, Valid: 74.76% Test: 73.38%\n",
            "Training...\n"
          ]
        },
        {
          "output_type": "stream",
          "name": "stderr",
          "text": [
            "Iteration: 100%|██████████| 1029/1029 [00:22<00:00, 46.07it/s]\n"
          ]
        },
        {
          "output_type": "stream",
          "name": "stdout",
          "text": [
            "Evaluating...\n"
          ]
        },
        {
          "output_type": "stream",
          "name": "stderr",
          "text": [
            "Iteration: 100%|██████████| 1029/1029 [00:12<00:00, 80.45it/s]\n",
            "Iteration: 100%|██████████| 129/129 [00:01<00:00, 80.03it/s]\n",
            "Iteration: 100%|██████████| 129/129 [00:01<00:00, 78.92it/s]\n"
          ]
        },
        {
          "output_type": "stream",
          "name": "stdout",
          "text": [
            "Epoch: 19, Loss: 0.0287, Train: 81.54%, Valid: 72.81% Test: 72.93%\n",
            "Training...\n"
          ]
        },
        {
          "output_type": "stream",
          "name": "stderr",
          "text": [
            "Iteration: 100%|██████████| 1029/1029 [00:22<00:00, 46.17it/s]\n"
          ]
        },
        {
          "output_type": "stream",
          "name": "stdout",
          "text": [
            "Evaluating...\n"
          ]
        },
        {
          "output_type": "stream",
          "name": "stderr",
          "text": [
            "Iteration: 100%|██████████| 1029/1029 [00:12<00:00, 81.16it/s]\n",
            "Iteration: 100%|██████████| 129/129 [00:01<00:00, 81.77it/s]\n",
            "Iteration: 100%|██████████| 129/129 [00:01<00:00, 82.51it/s]\n"
          ]
        },
        {
          "output_type": "stream",
          "name": "stdout",
          "text": [
            "Epoch: 20, Loss: 0.0196, Train: 82.57%, Valid: 77.20% Test: 72.70%\n",
            "Training...\n"
          ]
        },
        {
          "output_type": "stream",
          "name": "stderr",
          "text": [
            "Iteration: 100%|██████████| 1029/1029 [00:22<00:00, 46.75it/s]\n"
          ]
        },
        {
          "output_type": "stream",
          "name": "stdout",
          "text": [
            "Evaluating...\n"
          ]
        },
        {
          "output_type": "stream",
          "name": "stderr",
          "text": [
            "Iteration: 100%|██████████| 1029/1029 [00:12<00:00, 81.68it/s]\n",
            "Iteration: 100%|██████████| 129/129 [00:01<00:00, 80.39it/s]\n",
            "Iteration: 100%|██████████| 129/129 [00:01<00:00, 82.49it/s]\n"
          ]
        },
        {
          "output_type": "stream",
          "name": "stdout",
          "text": [
            "Epoch: 21, Loss: 0.0347, Train: 82.94%, Valid: 75.95% Test: 72.93%\n",
            "Training...\n"
          ]
        },
        {
          "output_type": "stream",
          "name": "stderr",
          "text": [
            "Iteration: 100%|██████████| 1029/1029 [00:21<00:00, 46.82it/s]\n"
          ]
        },
        {
          "output_type": "stream",
          "name": "stdout",
          "text": [
            "Evaluating...\n"
          ]
        },
        {
          "output_type": "stream",
          "name": "stderr",
          "text": [
            "Iteration: 100%|██████████| 1029/1029 [00:12<00:00, 80.00it/s]\n",
            "Iteration: 100%|██████████| 129/129 [00:01<00:00, 77.85it/s]\n",
            "Iteration: 100%|██████████| 129/129 [00:01<00:00, 80.71it/s]\n"
          ]
        },
        {
          "output_type": "stream",
          "name": "stdout",
          "text": [
            "Epoch: 22, Loss: 0.7046, Train: 82.24%, Valid: 73.99% Test: 74.51%\n",
            "Training...\n"
          ]
        },
        {
          "output_type": "stream",
          "name": "stderr",
          "text": [
            "Iteration: 100%|██████████| 1029/1029 [00:22<00:00, 46.00it/s]\n"
          ]
        },
        {
          "output_type": "stream",
          "name": "stdout",
          "text": [
            "Evaluating...\n"
          ]
        },
        {
          "output_type": "stream",
          "name": "stderr",
          "text": [
            "Iteration: 100%|██████████| 1029/1029 [00:12<00:00, 80.89it/s]\n",
            "Iteration: 100%|██████████| 129/129 [00:01<00:00, 78.08it/s]\n",
            "Iteration: 100%|██████████| 129/129 [00:01<00:00, 77.82it/s]\n"
          ]
        },
        {
          "output_type": "stream",
          "name": "stdout",
          "text": [
            "Epoch: 23, Loss: 0.0168, Train: 83.36%, Valid: 74.26% Test: 74.93%\n",
            "Training...\n"
          ]
        },
        {
          "output_type": "stream",
          "name": "stderr",
          "text": [
            "Iteration: 100%|██████████| 1029/1029 [00:22<00:00, 46.07it/s]\n"
          ]
        },
        {
          "output_type": "stream",
          "name": "stdout",
          "text": [
            "Evaluating...\n"
          ]
        },
        {
          "output_type": "stream",
          "name": "stderr",
          "text": [
            "Iteration: 100%|██████████| 1029/1029 [00:12<00:00, 82.29it/s]\n",
            "Iteration: 100%|██████████| 129/129 [00:01<00:00, 81.85it/s]\n",
            "Iteration: 100%|██████████| 129/129 [00:01<00:00, 85.17it/s]\n"
          ]
        },
        {
          "output_type": "stream",
          "name": "stdout",
          "text": [
            "Epoch: 24, Loss: 0.0193, Train: 83.14%, Valid: 77.25% Test: 74.49%\n",
            "Training...\n"
          ]
        },
        {
          "output_type": "stream",
          "name": "stderr",
          "text": [
            "Iteration: 100%|██████████| 1029/1029 [00:22<00:00, 45.48it/s]\n"
          ]
        },
        {
          "output_type": "stream",
          "name": "stdout",
          "text": [
            "Evaluating...\n"
          ]
        },
        {
          "output_type": "stream",
          "name": "stderr",
          "text": [
            "Iteration: 100%|██████████| 1029/1029 [00:13<00:00, 78.32it/s]\n",
            "Iteration: 100%|██████████| 129/129 [00:01<00:00, 79.42it/s]\n",
            "Iteration: 100%|██████████| 129/129 [00:01<00:00, 80.09it/s]\n"
          ]
        },
        {
          "output_type": "stream",
          "name": "stdout",
          "text": [
            "Epoch: 25, Loss: 0.0466, Train: 82.72%, Valid: 77.22% Test: 74.98%\n",
            "Training...\n"
          ]
        },
        {
          "output_type": "stream",
          "name": "stderr",
          "text": [
            "Iteration: 100%|██████████| 1029/1029 [00:22<00:00, 44.76it/s]\n"
          ]
        },
        {
          "output_type": "stream",
          "name": "stdout",
          "text": [
            "Evaluating...\n"
          ]
        },
        {
          "output_type": "stream",
          "name": "stderr",
          "text": [
            "Iteration: 100%|██████████| 1029/1029 [00:13<00:00, 77.75it/s]\n",
            "Iteration: 100%|██████████| 129/129 [00:01<00:00, 74.65it/s]\n",
            "Iteration: 100%|██████████| 129/129 [00:01<00:00, 79.08it/s]\n"
          ]
        },
        {
          "output_type": "stream",
          "name": "stdout",
          "text": [
            "Epoch: 26, Loss: 0.0204, Train: 84.03%, Valid: 77.46% Test: 76.49%\n",
            "Training...\n"
          ]
        },
        {
          "output_type": "stream",
          "name": "stderr",
          "text": [
            "Iteration: 100%|██████████| 1029/1029 [00:22<00:00, 44.86it/s]\n"
          ]
        },
        {
          "output_type": "stream",
          "name": "stdout",
          "text": [
            "Evaluating...\n"
          ]
        },
        {
          "output_type": "stream",
          "name": "stderr",
          "text": [
            "Iteration: 100%|██████████| 1029/1029 [00:12<00:00, 79.28it/s]\n",
            "Iteration: 100%|██████████| 129/129 [00:01<00:00, 79.88it/s]\n",
            "Iteration: 100%|██████████| 129/129 [00:01<00:00, 80.62it/s]\n"
          ]
        },
        {
          "output_type": "stream",
          "name": "stdout",
          "text": [
            "Epoch: 27, Loss: 0.0246, Train: 83.98%, Valid: 77.44% Test: 75.51%\n",
            "Training...\n"
          ]
        },
        {
          "output_type": "stream",
          "name": "stderr",
          "text": [
            "Iteration: 100%|██████████| 1029/1029 [00:21<00:00, 47.09it/s]\n"
          ]
        },
        {
          "output_type": "stream",
          "name": "stdout",
          "text": [
            "Evaluating...\n"
          ]
        },
        {
          "output_type": "stream",
          "name": "stderr",
          "text": [
            "Iteration: 100%|██████████| 1029/1029 [00:12<00:00, 82.87it/s]\n",
            "Iteration: 100%|██████████| 129/129 [00:01<00:00, 82.93it/s]\n",
            "Iteration: 100%|██████████| 129/129 [00:01<00:00, 83.93it/s]\n"
          ]
        },
        {
          "output_type": "stream",
          "name": "stdout",
          "text": [
            "Epoch: 28, Loss: 0.0826, Train: 84.05%, Valid: 79.11% Test: 75.50%\n",
            "Training...\n"
          ]
        },
        {
          "output_type": "stream",
          "name": "stderr",
          "text": [
            "Iteration: 100%|██████████| 1029/1029 [00:21<00:00, 46.83it/s]\n"
          ]
        },
        {
          "output_type": "stream",
          "name": "stdout",
          "text": [
            "Evaluating...\n"
          ]
        },
        {
          "output_type": "stream",
          "name": "stderr",
          "text": [
            "Iteration: 100%|██████████| 1029/1029 [00:13<00:00, 78.29it/s]\n",
            "Iteration: 100%|██████████| 129/129 [00:01<00:00, 78.34it/s]\n",
            "Iteration: 100%|██████████| 129/129 [00:01<00:00, 80.66it/s]\n"
          ]
        },
        {
          "output_type": "stream",
          "name": "stdout",
          "text": [
            "Epoch: 29, Loss: 0.0423, Train: 84.60%, Valid: 79.85% Test: 73.68%\n",
            "Training...\n"
          ]
        },
        {
          "output_type": "stream",
          "name": "stderr",
          "text": [
            "Iteration: 100%|██████████| 1029/1029 [00:22<00:00, 46.72it/s]\n"
          ]
        },
        {
          "output_type": "stream",
          "name": "stdout",
          "text": [
            "Evaluating...\n"
          ]
        },
        {
          "output_type": "stream",
          "name": "stderr",
          "text": [
            "Iteration: 100%|██████████| 1029/1029 [00:12<00:00, 82.80it/s]\n",
            "Iteration: 100%|██████████| 129/129 [00:01<00:00, 81.22it/s]\n",
            "Iteration: 100%|██████████| 129/129 [00:01<00:00, 81.49it/s]"
          ]
        },
        {
          "output_type": "stream",
          "name": "stdout",
          "text": [
            "Epoch: 30, Loss: 0.0280, Train: 84.84%, Valid: 77.82% Test: 76.22%\n"
          ]
        },
        {
          "output_type": "stream",
          "name": "stderr",
          "text": [
            "\n"
          ]
        }
      ],
      "source": [
        "import copy\n",
        "\n",
        "model.reset_parameters()\n",
        "\n",
        "optimizer = torch.optim.Adam(model.parameters(), lr=args['lr'])\n",
        "loss_fn = torch.nn.BCEWithLogitsLoss()\n",
        "\n",
        "best_model = None\n",
        "best_valid_acc = 0\n",
        "\n",
        "for epoch in range(1, 1 + args[\"epochs\"]):\n",
        "    print('Training...')\n",
        "    loss = train(model, device, train_loader, optimizer, loss_fn)\n",
        "\n",
        "    print('Evaluating...')\n",
        "    train_result = eval(model, device, train_loader, evaluator)\n",
        "    val_result = eval(model, device, valid_loader, evaluator)\n",
        "    test_result = eval(model, device, test_loader, evaluator)\n",
        "\n",
        "    train_acc, valid_acc, test_acc = train_result[dataset.eval_metric], val_result[dataset.eval_metric], test_result[dataset.eval_metric]\n",
        "    if valid_acc > best_valid_acc:\n",
        "        best_valid_acc = valid_acc\n",
        "        best_model = copy.deepcopy(model)\n",
        "    print(f'Epoch: {epoch:02d}, '\n",
        "        f'Loss: {loss:.4f}, '\n",
        "        f'Train: {100 * train_acc:.2f}%, '\n",
        "        f'Valid: {100 * valid_acc:.2f}% '\n",
        "        f'Test: {100 * test_acc:.2f}%')"
      ]
    },
    {
      "cell_type": "code",
      "execution_count": 43,
      "metadata": {
        "colab": {
          "base_uri": "https://localhost:8080/"
        },
        "id": "Oq5QaG21dOOO",
        "outputId": "385e32b7-a1a6-4110-fd02-cda3804eb994"
      },
      "outputs": [
        {
          "output_type": "stream",
          "name": "stderr",
          "text": [
            "Iteration: 100%|██████████| 1029/1029 [00:12<00:00, 80.69it/s]\n",
            "Iteration: 100%|██████████| 129/129 [00:01<00:00, 80.00it/s]\n",
            "Iteration: 100%|██████████| 129/129 [00:01<00:00, 79.34it/s]"
          ]
        },
        {
          "output_type": "stream",
          "name": "stdout",
          "text": [
            "Best model: Train: 84.60%, Valid: 79.85% Test: 73.68%\n"
          ]
        },
        {
          "output_type": "stream",
          "name": "stderr",
          "text": [
            "\n"
          ]
        }
      ],
      "source": [
        "train_acc = eval(best_model, device, train_loader, evaluator)[dataset.eval_metric]\n",
        "valid_acc = eval(best_model, device, valid_loader, evaluator)[dataset.eval_metric]\n",
        "test_acc = eval(best_model, device, test_loader, evaluator)[dataset.eval_metric]\n",
        "\n",
        "print(f'Best model: '\n",
        "      f'Train: {100 * train_acc:.2f}%, '\n",
        "      f'Valid: {100 * valid_acc:.2f}% '\n",
        "      f'Test: {100 * test_acc:.2f}%')"
      ]
    },
    {
      "cell_type": "markdown",
      "metadata": {
        "id": "-uKs6j6t1ah3"
      },
      "source": [
        "## Question 6: What are your `best_model` validation and test ROC-AUC score? Please report them on Gradescope. For example, for an ROC-AUC score such as 50.01%, just report 50.01 and please don't include the percent sign. (20 points)"
      ]
    },
    {
      "cell_type": "markdown",
      "metadata": {
        "id": "gBi_t8n0iZ4P"
      },
      "source": [
        "## Question 7 (Optional): Experiment with other two global pooling layers other than mean pooling in Pytorch Geometric."
      ]
    },
    {
      "cell_type": "markdown",
      "metadata": {
        "id": "NRHGtUIG7qbr"
      },
      "source": [
        "### Max Pooling"
      ]
    },
    {
      "cell_type": "code",
      "execution_count": 44,
      "metadata": {
        "id": "5Pznv58W7qbs"
      },
      "outputs": [],
      "source": [
        "from torch_geometric.nn import global_max_pool"
      ]
    },
    {
      "cell_type": "code",
      "execution_count": 45,
      "metadata": {
        "id": "JhpQEZMC7qbs"
      },
      "outputs": [],
      "source": [
        "model = GCN_Graph(args['hidden_dim'],\n",
        "            dataset.num_tasks, args['num_layers'],\n",
        "            args['dropout'], global_max_pool).to(device)\n",
        "evaluator = Evaluator(name='ogbg-molhiv')"
      ]
    },
    {
      "cell_type": "code",
      "execution_count": 46,
      "metadata": {
        "id": "taxEEWyh1_jq",
        "outputId": "a3d7632e-74be-40a5-abba-80c194b0a5ae",
        "colab": {
          "base_uri": "https://localhost:8080/"
        }
      },
      "outputs": [
        {
          "output_type": "stream",
          "name": "stdout",
          "text": [
            "Training...\n"
          ]
        },
        {
          "output_type": "stream",
          "name": "stderr",
          "text": [
            "Iteration: 100%|██████████| 1029/1029 [00:22<00:00, 45.64it/s]\n"
          ]
        },
        {
          "output_type": "stream",
          "name": "stdout",
          "text": [
            "Evaluating...\n"
          ]
        },
        {
          "output_type": "stream",
          "name": "stderr",
          "text": [
            "Iteration: 100%|██████████| 1029/1029 [00:12<00:00, 79.41it/s]\n",
            "Iteration: 100%|██████████| 129/129 [00:01<00:00, 77.24it/s]\n",
            "Iteration: 100%|██████████| 129/129 [00:01<00:00, 79.24it/s]\n"
          ]
        },
        {
          "output_type": "stream",
          "name": "stdout",
          "text": [
            "Epoch: 01, Loss: 0.5212, Train: 74.54%, Valid: 65.38% Test: 67.43%\n",
            "Training...\n"
          ]
        },
        {
          "output_type": "stream",
          "name": "stderr",
          "text": [
            "Iteration: 100%|██████████| 1029/1029 [00:22<00:00, 44.87it/s]\n"
          ]
        },
        {
          "output_type": "stream",
          "name": "stdout",
          "text": [
            "Evaluating...\n"
          ]
        },
        {
          "output_type": "stream",
          "name": "stderr",
          "text": [
            "Iteration: 100%|██████████| 1029/1029 [00:12<00:00, 80.15it/s]\n",
            "Iteration: 100%|██████████| 129/129 [00:01<00:00, 77.85it/s]\n",
            "Iteration: 100%|██████████| 129/129 [00:01<00:00, 78.73it/s]\n"
          ]
        },
        {
          "output_type": "stream",
          "name": "stdout",
          "text": [
            "Epoch: 02, Loss: 0.0444, Train: 76.31%, Valid: 70.99% Test: 74.03%\n",
            "Training...\n"
          ]
        },
        {
          "output_type": "stream",
          "name": "stderr",
          "text": [
            "Iteration: 100%|██████████| 1029/1029 [00:22<00:00, 45.07it/s]\n"
          ]
        },
        {
          "output_type": "stream",
          "name": "stdout",
          "text": [
            "Evaluating...\n"
          ]
        },
        {
          "output_type": "stream",
          "name": "stderr",
          "text": [
            "Iteration: 100%|██████████| 1029/1029 [00:12<00:00, 81.46it/s]\n",
            "Iteration: 100%|██████████| 129/129 [00:01<00:00, 81.12it/s]\n",
            "Iteration: 100%|██████████| 129/129 [00:01<00:00, 82.50it/s]\n"
          ]
        },
        {
          "output_type": "stream",
          "name": "stdout",
          "text": [
            "Epoch: 03, Loss: 0.0427, Train: 78.43%, Valid: 72.54% Test: 73.72%\n",
            "Training...\n"
          ]
        },
        {
          "output_type": "stream",
          "name": "stderr",
          "text": [
            "Iteration: 100%|██████████| 1029/1029 [00:22<00:00, 45.91it/s]\n"
          ]
        },
        {
          "output_type": "stream",
          "name": "stdout",
          "text": [
            "Evaluating...\n"
          ]
        },
        {
          "output_type": "stream",
          "name": "stderr",
          "text": [
            "Iteration: 100%|██████████| 1029/1029 [00:12<00:00, 81.01it/s]\n",
            "Iteration: 100%|██████████| 129/129 [00:01<00:00, 79.37it/s]\n",
            "Iteration: 100%|██████████| 129/129 [00:01<00:00, 78.77it/s]\n"
          ]
        },
        {
          "output_type": "stream",
          "name": "stdout",
          "text": [
            "Epoch: 04, Loss: 0.0377, Train: 76.14%, Valid: 70.63% Test: 69.08%\n",
            "Training...\n"
          ]
        },
        {
          "output_type": "stream",
          "name": "stderr",
          "text": [
            "Iteration: 100%|██████████| 1029/1029 [00:22<00:00, 46.01it/s]\n"
          ]
        },
        {
          "output_type": "stream",
          "name": "stdout",
          "text": [
            "Evaluating...\n"
          ]
        },
        {
          "output_type": "stream",
          "name": "stderr",
          "text": [
            "Iteration: 100%|██████████| 1029/1029 [00:12<00:00, 82.37it/s]\n",
            "Iteration: 100%|██████████| 129/129 [00:01<00:00, 80.54it/s]\n",
            "Iteration: 100%|██████████| 129/129 [00:01<00:00, 79.94it/s]\n"
          ]
        },
        {
          "output_type": "stream",
          "name": "stdout",
          "text": [
            "Epoch: 05, Loss: 0.7035, Train: 77.11%, Valid: 72.06% Test: 70.37%\n",
            "Training...\n"
          ]
        },
        {
          "output_type": "stream",
          "name": "stderr",
          "text": [
            "Iteration: 100%|██████████| 1029/1029 [00:22<00:00, 46.16it/s]\n"
          ]
        },
        {
          "output_type": "stream",
          "name": "stdout",
          "text": [
            "Evaluating...\n"
          ]
        },
        {
          "output_type": "stream",
          "name": "stderr",
          "text": [
            "Iteration: 100%|██████████| 1029/1029 [00:12<00:00, 81.52it/s]\n",
            "Iteration: 100%|██████████| 129/129 [00:01<00:00, 82.15it/s]\n",
            "Iteration: 100%|██████████| 129/129 [00:01<00:00, 82.27it/s]\n"
          ]
        },
        {
          "output_type": "stream",
          "name": "stdout",
          "text": [
            "Epoch: 06, Loss: 0.0122, Train: 79.15%, Valid: 71.53% Test: 74.51%\n",
            "Training...\n"
          ]
        },
        {
          "output_type": "stream",
          "name": "stderr",
          "text": [
            "Iteration: 100%|██████████| 1029/1029 [00:22<00:00, 46.19it/s]\n"
          ]
        },
        {
          "output_type": "stream",
          "name": "stdout",
          "text": [
            "Evaluating...\n"
          ]
        },
        {
          "output_type": "stream",
          "name": "stderr",
          "text": [
            "Iteration: 100%|██████████| 1029/1029 [00:12<00:00, 80.63it/s]\n",
            "Iteration: 100%|██████████| 129/129 [00:01<00:00, 79.21it/s]\n",
            "Iteration: 100%|██████████| 129/129 [00:01<00:00, 80.56it/s]\n"
          ]
        },
        {
          "output_type": "stream",
          "name": "stdout",
          "text": [
            "Epoch: 07, Loss: 0.0153, Train: 80.08%, Valid: 72.70% Test: 74.81%\n",
            "Training...\n"
          ]
        },
        {
          "output_type": "stream",
          "name": "stderr",
          "text": [
            "Iteration: 100%|██████████| 1029/1029 [00:22<00:00, 46.25it/s]\n"
          ]
        },
        {
          "output_type": "stream",
          "name": "stdout",
          "text": [
            "Evaluating...\n"
          ]
        },
        {
          "output_type": "stream",
          "name": "stderr",
          "text": [
            "Iteration: 100%|██████████| 1029/1029 [00:12<00:00, 81.43it/s]\n",
            "Iteration: 100%|██████████| 129/129 [00:01<00:00, 79.50it/s]\n",
            "Iteration: 100%|██████████| 129/129 [00:01<00:00, 81.02it/s]\n"
          ]
        },
        {
          "output_type": "stream",
          "name": "stdout",
          "text": [
            "Epoch: 08, Loss: 0.0251, Train: 80.68%, Valid: 77.18% Test: 74.52%\n",
            "Training...\n"
          ]
        },
        {
          "output_type": "stream",
          "name": "stderr",
          "text": [
            "Iteration: 100%|██████████| 1029/1029 [00:22<00:00, 46.26it/s]\n"
          ]
        },
        {
          "output_type": "stream",
          "name": "stdout",
          "text": [
            "Evaluating...\n"
          ]
        },
        {
          "output_type": "stream",
          "name": "stderr",
          "text": [
            "Iteration: 100%|██████████| 1029/1029 [00:12<00:00, 80.29it/s]\n",
            "Iteration: 100%|██████████| 129/129 [00:01<00:00, 82.03it/s]\n",
            "Iteration: 100%|██████████| 129/129 [00:01<00:00, 81.01it/s]\n"
          ]
        },
        {
          "output_type": "stream",
          "name": "stdout",
          "text": [
            "Epoch: 09, Loss: 0.0337, Train: 81.43%, Valid: 73.70% Test: 76.05%\n",
            "Training...\n"
          ]
        },
        {
          "output_type": "stream",
          "name": "stderr",
          "text": [
            "Iteration: 100%|██████████| 1029/1029 [00:22<00:00, 45.90it/s]\n"
          ]
        },
        {
          "output_type": "stream",
          "name": "stdout",
          "text": [
            "Evaluating...\n"
          ]
        },
        {
          "output_type": "stream",
          "name": "stderr",
          "text": [
            "Iteration: 100%|██████████| 1029/1029 [00:12<00:00, 83.37it/s]\n",
            "Iteration: 100%|██████████| 129/129 [00:01<00:00, 81.68it/s]\n",
            "Iteration: 100%|██████████| 129/129 [00:01<00:00, 81.98it/s]\n"
          ]
        },
        {
          "output_type": "stream",
          "name": "stdout",
          "text": [
            "Epoch: 10, Loss: 0.8824, Train: 81.02%, Valid: 72.46% Test: 76.44%\n",
            "Training...\n"
          ]
        },
        {
          "output_type": "stream",
          "name": "stderr",
          "text": [
            "Iteration: 100%|██████████| 1029/1029 [00:21<00:00, 47.04it/s]\n"
          ]
        },
        {
          "output_type": "stream",
          "name": "stdout",
          "text": [
            "Evaluating...\n"
          ]
        },
        {
          "output_type": "stream",
          "name": "stderr",
          "text": [
            "Iteration: 100%|██████████| 1029/1029 [00:12<00:00, 82.43it/s]\n",
            "Iteration: 100%|██████████| 129/129 [00:01<00:00, 80.09it/s]\n",
            "Iteration: 100%|██████████| 129/129 [00:01<00:00, 81.01it/s]\n"
          ]
        },
        {
          "output_type": "stream",
          "name": "stdout",
          "text": [
            "Epoch: 11, Loss: 0.0710, Train: 81.89%, Valid: 76.13% Test: 76.68%\n",
            "Training...\n"
          ]
        },
        {
          "output_type": "stream",
          "name": "stderr",
          "text": [
            "Iteration: 100%|██████████| 1029/1029 [00:22<00:00, 46.57it/s]\n"
          ]
        },
        {
          "output_type": "stream",
          "name": "stdout",
          "text": [
            "Evaluating...\n"
          ]
        },
        {
          "output_type": "stream",
          "name": "stderr",
          "text": [
            "Iteration: 100%|██████████| 1029/1029 [00:12<00:00, 81.10it/s]\n",
            "Iteration: 100%|██████████| 129/129 [00:01<00:00, 77.02it/s]\n",
            "Iteration: 100%|██████████| 129/129 [00:01<00:00, 82.71it/s]\n"
          ]
        },
        {
          "output_type": "stream",
          "name": "stdout",
          "text": [
            "Epoch: 12, Loss: 0.0139, Train: 82.54%, Valid: 73.54% Test: 76.64%\n",
            "Training...\n"
          ]
        },
        {
          "output_type": "stream",
          "name": "stderr",
          "text": [
            "Iteration: 100%|██████████| 1029/1029 [00:22<00:00, 45.87it/s]\n"
          ]
        },
        {
          "output_type": "stream",
          "name": "stdout",
          "text": [
            "Evaluating...\n"
          ]
        },
        {
          "output_type": "stream",
          "name": "stderr",
          "text": [
            "Iteration: 100%|██████████| 1029/1029 [00:12<00:00, 81.34it/s]\n",
            "Iteration: 100%|██████████| 129/129 [00:01<00:00, 81.05it/s]\n",
            "Iteration: 100%|██████████| 129/129 [00:01<00:00, 80.91it/s]\n"
          ]
        },
        {
          "output_type": "stream",
          "name": "stdout",
          "text": [
            "Epoch: 13, Loss: 0.0257, Train: 82.62%, Valid: 77.90% Test: 76.62%\n",
            "Training...\n"
          ]
        },
        {
          "output_type": "stream",
          "name": "stderr",
          "text": [
            "Iteration: 100%|██████████| 1029/1029 [00:22<00:00, 46.01it/s]\n"
          ]
        },
        {
          "output_type": "stream",
          "name": "stdout",
          "text": [
            "Evaluating...\n"
          ]
        },
        {
          "output_type": "stream",
          "name": "stderr",
          "text": [
            "Iteration: 100%|██████████| 1029/1029 [00:12<00:00, 82.09it/s]\n",
            "Iteration: 100%|██████████| 129/129 [00:01<00:00, 80.58it/s]\n",
            "Iteration: 100%|██████████| 129/129 [00:01<00:00, 80.46it/s]\n"
          ]
        },
        {
          "output_type": "stream",
          "name": "stdout",
          "text": [
            "Epoch: 14, Loss: 0.0215, Train: 82.67%, Valid: 74.77% Test: 75.89%\n",
            "Training...\n"
          ]
        },
        {
          "output_type": "stream",
          "name": "stderr",
          "text": [
            "Iteration: 100%|██████████| 1029/1029 [00:22<00:00, 45.57it/s]\n"
          ]
        },
        {
          "output_type": "stream",
          "name": "stdout",
          "text": [
            "Evaluating...\n"
          ]
        },
        {
          "output_type": "stream",
          "name": "stderr",
          "text": [
            "Iteration: 100%|██████████| 1029/1029 [00:12<00:00, 81.61it/s]\n",
            "Iteration: 100%|██████████| 129/129 [00:01<00:00, 80.32it/s]\n",
            "Iteration: 100%|██████████| 129/129 [00:01<00:00, 83.66it/s]\n"
          ]
        },
        {
          "output_type": "stream",
          "name": "stdout",
          "text": [
            "Epoch: 15, Loss: 0.0313, Train: 83.04%, Valid: 76.09% Test: 74.74%\n",
            "Training...\n"
          ]
        },
        {
          "output_type": "stream",
          "name": "stderr",
          "text": [
            "Iteration: 100%|██████████| 1029/1029 [00:21<00:00, 47.02it/s]\n"
          ]
        },
        {
          "output_type": "stream",
          "name": "stdout",
          "text": [
            "Evaluating...\n"
          ]
        },
        {
          "output_type": "stream",
          "name": "stderr",
          "text": [
            "Iteration: 100%|██████████| 1029/1029 [00:12<00:00, 81.15it/s]\n",
            "Iteration: 100%|██████████| 129/129 [00:01<00:00, 80.45it/s]\n",
            "Iteration: 100%|██████████| 129/129 [00:01<00:00, 84.19it/s]\n"
          ]
        },
        {
          "output_type": "stream",
          "name": "stdout",
          "text": [
            "Epoch: 16, Loss: 0.0147, Train: 83.32%, Valid: 79.38% Test: 76.21%\n",
            "Training...\n"
          ]
        },
        {
          "output_type": "stream",
          "name": "stderr",
          "text": [
            "Iteration: 100%|██████████| 1029/1029 [00:21<00:00, 46.85it/s]\n"
          ]
        },
        {
          "output_type": "stream",
          "name": "stdout",
          "text": [
            "Evaluating...\n"
          ]
        },
        {
          "output_type": "stream",
          "name": "stderr",
          "text": [
            "Iteration: 100%|██████████| 1029/1029 [00:12<00:00, 81.46it/s]\n",
            "Iteration: 100%|██████████| 129/129 [00:01<00:00, 82.03it/s]\n",
            "Iteration: 100%|██████████| 129/129 [00:01<00:00, 82.09it/s]\n"
          ]
        },
        {
          "output_type": "stream",
          "name": "stdout",
          "text": [
            "Epoch: 17, Loss: 0.0177, Train: 84.50%, Valid: 76.44% Test: 74.33%\n",
            "Training...\n"
          ]
        },
        {
          "output_type": "stream",
          "name": "stderr",
          "text": [
            "Iteration: 100%|██████████| 1029/1029 [00:22<00:00, 46.53it/s]\n"
          ]
        },
        {
          "output_type": "stream",
          "name": "stdout",
          "text": [
            "Evaluating...\n"
          ]
        },
        {
          "output_type": "stream",
          "name": "stderr",
          "text": [
            "Iteration: 100%|██████████| 1029/1029 [00:12<00:00, 82.20it/s]\n",
            "Iteration: 100%|██████████| 129/129 [00:01<00:00, 80.14it/s]\n",
            "Iteration: 100%|██████████| 129/129 [00:01<00:00, 82.24it/s]\n"
          ]
        },
        {
          "output_type": "stream",
          "name": "stdout",
          "text": [
            "Epoch: 18, Loss: 0.0207, Train: 84.29%, Valid: 78.16% Test: 75.28%\n",
            "Training...\n"
          ]
        },
        {
          "output_type": "stream",
          "name": "stderr",
          "text": [
            "Iteration: 100%|██████████| 1029/1029 [00:22<00:00, 46.54it/s]\n"
          ]
        },
        {
          "output_type": "stream",
          "name": "stdout",
          "text": [
            "Evaluating...\n"
          ]
        },
        {
          "output_type": "stream",
          "name": "stderr",
          "text": [
            "Iteration: 100%|██████████| 1029/1029 [00:12<00:00, 82.84it/s]\n",
            "Iteration: 100%|██████████| 129/129 [00:01<00:00, 84.37it/s]\n",
            "Iteration: 100%|██████████| 129/129 [00:01<00:00, 83.90it/s]\n"
          ]
        },
        {
          "output_type": "stream",
          "name": "stdout",
          "text": [
            "Epoch: 19, Loss: 0.1018, Train: 84.62%, Valid: 80.46% Test: 75.97%\n",
            "Training...\n"
          ]
        },
        {
          "output_type": "stream",
          "name": "stderr",
          "text": [
            "Iteration: 100%|██████████| 1029/1029 [00:22<00:00, 45.76it/s]\n"
          ]
        },
        {
          "output_type": "stream",
          "name": "stdout",
          "text": [
            "Evaluating...\n"
          ]
        },
        {
          "output_type": "stream",
          "name": "stderr",
          "text": [
            "Iteration: 100%|██████████| 1029/1029 [00:12<00:00, 80.06it/s]\n",
            "Iteration: 100%|██████████| 129/129 [00:01<00:00, 81.52it/s]\n",
            "Iteration: 100%|██████████| 129/129 [00:01<00:00, 80.66it/s]\n"
          ]
        },
        {
          "output_type": "stream",
          "name": "stdout",
          "text": [
            "Epoch: 20, Loss: 0.0276, Train: 84.39%, Valid: 76.82% Test: 75.41%\n",
            "Training...\n"
          ]
        },
        {
          "output_type": "stream",
          "name": "stderr",
          "text": [
            "Iteration: 100%|██████████| 1029/1029 [00:22<00:00, 45.74it/s]\n"
          ]
        },
        {
          "output_type": "stream",
          "name": "stdout",
          "text": [
            "Evaluating...\n"
          ]
        },
        {
          "output_type": "stream",
          "name": "stderr",
          "text": [
            "Iteration: 100%|██████████| 1029/1029 [00:12<00:00, 80.71it/s]\n",
            "Iteration: 100%|██████████| 129/129 [00:01<00:00, 81.58it/s]\n",
            "Iteration: 100%|██████████| 129/129 [00:01<00:00, 80.65it/s]\n"
          ]
        },
        {
          "output_type": "stream",
          "name": "stdout",
          "text": [
            "Epoch: 21, Loss: 0.0121, Train: 84.18%, Valid: 77.86% Test: 75.98%\n",
            "Training...\n"
          ]
        },
        {
          "output_type": "stream",
          "name": "stderr",
          "text": [
            "Iteration: 100%|██████████| 1029/1029 [00:22<00:00, 46.59it/s]\n"
          ]
        },
        {
          "output_type": "stream",
          "name": "stdout",
          "text": [
            "Evaluating...\n"
          ]
        },
        {
          "output_type": "stream",
          "name": "stderr",
          "text": [
            "Iteration: 100%|██████████| 1029/1029 [00:12<00:00, 83.36it/s]\n",
            "Iteration: 100%|██████████| 129/129 [00:01<00:00, 82.25it/s]\n",
            "Iteration: 100%|██████████| 129/129 [00:01<00:00, 82.57it/s]\n"
          ]
        },
        {
          "output_type": "stream",
          "name": "stdout",
          "text": [
            "Epoch: 22, Loss: 0.0423, Train: 85.34%, Valid: 80.42% Test: 77.72%\n",
            "Training...\n"
          ]
        },
        {
          "output_type": "stream",
          "name": "stderr",
          "text": [
            "Iteration: 100%|██████████| 1029/1029 [00:22<00:00, 46.68it/s]\n"
          ]
        },
        {
          "output_type": "stream",
          "name": "stdout",
          "text": [
            "Evaluating...\n"
          ]
        },
        {
          "output_type": "stream",
          "name": "stderr",
          "text": [
            "Iteration: 100%|██████████| 1029/1029 [00:12<00:00, 82.79it/s]\n",
            "Iteration: 100%|██████████| 129/129 [00:01<00:00, 81.99it/s]\n",
            "Iteration: 100%|██████████| 129/129 [00:01<00:00, 83.83it/s]\n"
          ]
        },
        {
          "output_type": "stream",
          "name": "stdout",
          "text": [
            "Epoch: 23, Loss: 0.0230, Train: 85.46%, Valid: 79.47% Test: 76.57%\n",
            "Training...\n"
          ]
        },
        {
          "output_type": "stream",
          "name": "stderr",
          "text": [
            "Iteration: 100%|██████████| 1029/1029 [00:22<00:00, 46.38it/s]\n"
          ]
        },
        {
          "output_type": "stream",
          "name": "stdout",
          "text": [
            "Evaluating...\n"
          ]
        },
        {
          "output_type": "stream",
          "name": "stderr",
          "text": [
            "Iteration: 100%|██████████| 1029/1029 [00:12<00:00, 79.79it/s]\n",
            "Iteration: 100%|██████████| 129/129 [00:01<00:00, 78.84it/s]\n",
            "Iteration: 100%|██████████| 129/129 [00:01<00:00, 80.23it/s]\n"
          ]
        },
        {
          "output_type": "stream",
          "name": "stdout",
          "text": [
            "Epoch: 24, Loss: 0.0235, Train: 85.41%, Valid: 78.69% Test: 76.62%\n",
            "Training...\n"
          ]
        },
        {
          "output_type": "stream",
          "name": "stderr",
          "text": [
            "Iteration: 100%|██████████| 1029/1029 [00:22<00:00, 46.21it/s]\n"
          ]
        },
        {
          "output_type": "stream",
          "name": "stdout",
          "text": [
            "Evaluating...\n"
          ]
        },
        {
          "output_type": "stream",
          "name": "stderr",
          "text": [
            "Iteration: 100%|██████████| 1029/1029 [00:12<00:00, 80.63it/s]\n",
            "Iteration: 100%|██████████| 129/129 [00:01<00:00, 80.20it/s]\n",
            "Iteration: 100%|██████████| 129/129 [00:01<00:00, 81.48it/s]\n"
          ]
        },
        {
          "output_type": "stream",
          "name": "stdout",
          "text": [
            "Epoch: 25, Loss: 0.4104, Train: 85.92%, Valid: 79.56% Test: 76.97%\n",
            "Training...\n"
          ]
        },
        {
          "output_type": "stream",
          "name": "stderr",
          "text": [
            "Iteration: 100%|██████████| 1029/1029 [00:22<00:00, 46.35it/s]\n"
          ]
        },
        {
          "output_type": "stream",
          "name": "stdout",
          "text": [
            "Evaluating...\n"
          ]
        },
        {
          "output_type": "stream",
          "name": "stderr",
          "text": [
            "Iteration: 100%|██████████| 1029/1029 [00:12<00:00, 81.31it/s]\n",
            "Iteration: 100%|██████████| 129/129 [00:01<00:00, 83.48it/s]\n",
            "Iteration: 100%|██████████| 129/129 [00:01<00:00, 82.43it/s]\n"
          ]
        },
        {
          "output_type": "stream",
          "name": "stdout",
          "text": [
            "Epoch: 26, Loss: 0.0135, Train: 86.30%, Valid: 79.93% Test: 76.78%\n",
            "Training...\n"
          ]
        },
        {
          "output_type": "stream",
          "name": "stderr",
          "text": [
            "Iteration: 100%|██████████| 1029/1029 [00:22<00:00, 46.14it/s]\n"
          ]
        },
        {
          "output_type": "stream",
          "name": "stdout",
          "text": [
            "Evaluating...\n"
          ]
        },
        {
          "output_type": "stream",
          "name": "stderr",
          "text": [
            "Iteration: 100%|██████████| 1029/1029 [00:12<00:00, 81.41it/s]\n",
            "Iteration: 100%|██████████| 129/129 [00:01<00:00, 83.29it/s]\n",
            "Iteration: 100%|██████████| 129/129 [00:01<00:00, 83.92it/s]\n"
          ]
        },
        {
          "output_type": "stream",
          "name": "stdout",
          "text": [
            "Epoch: 27, Loss: 0.0358, Train: 85.82%, Valid: 78.76% Test: 76.33%\n",
            "Training...\n"
          ]
        },
        {
          "output_type": "stream",
          "name": "stderr",
          "text": [
            "Iteration: 100%|██████████| 1029/1029 [00:22<00:00, 45.95it/s]\n"
          ]
        },
        {
          "output_type": "stream",
          "name": "stdout",
          "text": [
            "Evaluating...\n"
          ]
        },
        {
          "output_type": "stream",
          "name": "stderr",
          "text": [
            "Iteration: 100%|██████████| 1029/1029 [00:12<00:00, 81.19it/s]\n",
            "Iteration: 100%|██████████| 129/129 [00:01<00:00, 80.39it/s]\n",
            "Iteration: 100%|██████████| 129/129 [00:01<00:00, 81.25it/s]\n"
          ]
        },
        {
          "output_type": "stream",
          "name": "stdout",
          "text": [
            "Epoch: 28, Loss: 0.0865, Train: 86.08%, Valid: 78.08% Test: 77.31%\n",
            "Training...\n"
          ]
        },
        {
          "output_type": "stream",
          "name": "stderr",
          "text": [
            "Iteration: 100%|██████████| 1029/1029 [00:22<00:00, 45.58it/s]\n"
          ]
        },
        {
          "output_type": "stream",
          "name": "stdout",
          "text": [
            "Evaluating...\n"
          ]
        },
        {
          "output_type": "stream",
          "name": "stderr",
          "text": [
            "Iteration: 100%|██████████| 1029/1029 [00:12<00:00, 80.33it/s]\n",
            "Iteration: 100%|██████████| 129/129 [00:01<00:00, 80.69it/s]\n",
            "Iteration: 100%|██████████| 129/129 [00:01<00:00, 78.60it/s]\n"
          ]
        },
        {
          "output_type": "stream",
          "name": "stdout",
          "text": [
            "Epoch: 29, Loss: 0.1481, Train: 86.03%, Valid: 78.47% Test: 77.46%\n",
            "Training...\n"
          ]
        },
        {
          "output_type": "stream",
          "name": "stderr",
          "text": [
            "Iteration: 100%|██████████| 1029/1029 [00:22<00:00, 45.88it/s]\n"
          ]
        },
        {
          "output_type": "stream",
          "name": "stdout",
          "text": [
            "Evaluating...\n"
          ]
        },
        {
          "output_type": "stream",
          "name": "stderr",
          "text": [
            "Iteration: 100%|██████████| 1029/1029 [00:12<00:00, 80.91it/s]\n",
            "Iteration: 100%|██████████| 129/129 [00:01<00:00, 78.18it/s]\n",
            "Iteration: 100%|██████████| 129/129 [00:01<00:00, 80.87it/s]"
          ]
        },
        {
          "output_type": "stream",
          "name": "stdout",
          "text": [
            "Epoch: 30, Loss: 0.0246, Train: 86.34%, Valid: 78.98% Test: 75.78%\n"
          ]
        },
        {
          "output_type": "stream",
          "name": "stderr",
          "text": [
            "\n"
          ]
        }
      ],
      "source": [
        "import copy\n",
        "\n",
        "model.reset_parameters()\n",
        "\n",
        "optimizer = torch.optim.Adam(model.parameters(), lr=args['lr'])\n",
        "loss_fn = torch.nn.BCEWithLogitsLoss()\n",
        "\n",
        "best_model = None\n",
        "best_valid_acc = 0\n",
        "\n",
        "for epoch in range(1, 1 + args[\"epochs\"]):\n",
        "    print('Training...')\n",
        "    loss = train(model, device, train_loader, optimizer, loss_fn)\n",
        "\n",
        "    print('Evaluating...')\n",
        "    train_result = eval(model, device, train_loader, evaluator)\n",
        "    val_result = eval(model, device, valid_loader, evaluator)\n",
        "    test_result = eval(model, device, test_loader, evaluator)\n",
        "\n",
        "    train_acc, valid_acc, test_acc = train_result[dataset.eval_metric], val_result[dataset.eval_metric], test_result[dataset.eval_metric]\n",
        "    if valid_acc > best_valid_acc:\n",
        "        best_valid_acc = valid_acc\n",
        "        best_model = copy.deepcopy(model)\n",
        "    print(f'Epoch: {epoch:02d}, '\n",
        "        f'Loss: {loss:.4f}, '\n",
        "        f'Train: {100 * train_acc:.2f}%, '\n",
        "        f'Valid: {100 * valid_acc:.2f}% '\n",
        "        f'Test: {100 * test_acc:.2f}%')"
      ]
    },
    {
      "cell_type": "code",
      "execution_count": 47,
      "metadata": {
        "id": "8uaeRO6i7qbs",
        "outputId": "fd79dbcc-8e70-4124-a69a-c956293e502e",
        "colab": {
          "base_uri": "https://localhost:8080/"
        }
      },
      "outputs": [
        {
          "output_type": "stream",
          "name": "stderr",
          "text": [
            "Iteration: 100%|██████████| 1029/1029 [00:12<00:00, 81.39it/s]\n",
            "Iteration: 100%|██████████| 129/129 [00:01<00:00, 78.98it/s]\n",
            "Iteration: 100%|██████████| 129/129 [00:01<00:00, 80.22it/s]"
          ]
        },
        {
          "output_type": "stream",
          "name": "stdout",
          "text": [
            "Best model: Train: 84.62%, Valid: 80.46% Test: 75.97%\n"
          ]
        },
        {
          "output_type": "stream",
          "name": "stderr",
          "text": [
            "\n"
          ]
        }
      ],
      "source": [
        "train_acc = eval(best_model, device, train_loader, evaluator)[dataset.eval_metric]\n",
        "valid_acc = eval(best_model, device, valid_loader, evaluator)[dataset.eval_metric]\n",
        "test_acc = eval(best_model, device, test_loader, evaluator)[dataset.eval_metric]\n",
        "\n",
        "print(f'Best model: '\n",
        "      f'Train: {100 * train_acc:.2f}%, '\n",
        "      f'Valid: {100 * valid_acc:.2f}% '\n",
        "      f'Test: {100 * test_acc:.2f}%')"
      ]
    },
    {
      "cell_type": "markdown",
      "metadata": {
        "id": "oq2viIwG7qbs"
      },
      "source": [
        "### Sum Pooling"
      ]
    },
    {
      "cell_type": "code",
      "execution_count": 48,
      "metadata": {
        "id": "2qAvU3ms7qbt"
      },
      "outputs": [],
      "source": [
        "from torch_geometric.nn import global_add_pool"
      ]
    },
    {
      "cell_type": "code",
      "execution_count": 49,
      "metadata": {
        "id": "X8gHXuZk7qbt"
      },
      "outputs": [],
      "source": [
        "model = GCN_Graph(args['hidden_dim'],\n",
        "            dataset.num_tasks, args['num_layers'],\n",
        "            args['dropout'], global_add_pool).to(device)\n",
        "evaluator = Evaluator(name='ogbg-molhiv')"
      ]
    },
    {
      "cell_type": "code",
      "execution_count": null,
      "metadata": {
        "id": "utCIwfWq7qbt",
        "outputId": "4eaebab7-c4c3-4333-d34a-10f70dce1537",
        "scrolled": true
      },
      "outputs": [
        {
          "name": "stderr",
          "output_type": "stream",
          "text": [
            "Iteration:   1%|          | 7/1029 [00:00<00:16, 62.67it/s]"
          ]
        },
        {
          "name": "stdout",
          "output_type": "stream",
          "text": [
            "Training...\n"
          ]
        },
        {
          "name": "stderr",
          "output_type": "stream",
          "text": [
            "Iteration: 100%|██████████| 1029/1029 [00:14<00:00, 71.69it/s]\n",
            "Iteration:   2%|▏         | 17/1029 [00:00<00:06, 160.33it/s]"
          ]
        },
        {
          "name": "stdout",
          "output_type": "stream",
          "text": [
            "Evaluating...\n"
          ]
        },
        {
          "name": "stderr",
          "output_type": "stream",
          "text": [
            "Iteration: 100%|██████████| 1029/1029 [00:05<00:00, 190.72it/s]\n",
            "Iteration: 100%|██████████| 129/129 [00:00<00:00, 193.58it/s]\n",
            "Iteration: 100%|██████████| 129/129 [00:00<00:00, 195.64it/s]\n",
            "Iteration:   1%|          | 7/1029 [00:00<00:14, 69.13it/s]"
          ]
        },
        {
          "name": "stdout",
          "output_type": "stream",
          "text": [
            "Epoch: 01, Loss: 0.0147, Train: 56.90%, Valid: 56.18% Test: 55.92%\n",
            "Training...\n"
          ]
        },
        {
          "name": "stderr",
          "output_type": "stream",
          "text": [
            "Iteration: 100%|██████████| 1029/1029 [00:14<00:00, 72.35it/s]\n",
            "Iteration:   1%|▏         | 15/1029 [00:00<00:06, 146.64it/s]"
          ]
        },
        {
          "name": "stdout",
          "output_type": "stream",
          "text": [
            "Evaluating...\n"
          ]
        },
        {
          "name": "stderr",
          "output_type": "stream",
          "text": [
            "Iteration: 100%|██████████| 1029/1029 [00:05<00:00, 191.99it/s]\n",
            "Iteration: 100%|██████████| 129/129 [00:00<00:00, 197.71it/s]\n",
            "Iteration: 100%|██████████| 129/129 [00:00<00:00, 197.62it/s]\n",
            "Iteration:   1%|          | 8/1029 [00:00<00:13, 75.22it/s]"
          ]
        },
        {
          "name": "stdout",
          "output_type": "stream",
          "text": [
            "Epoch: 02, Loss: 0.5428, Train: 66.91%, Valid: 67.29% Test: 65.73%\n",
            "Training...\n"
          ]
        },
        {
          "name": "stderr",
          "output_type": "stream",
          "text": [
            "Iteration: 100%|██████████| 1029/1029 [00:14<00:00, 71.90it/s]\n",
            "Iteration:   2%|▏         | 16/1029 [00:00<00:06, 153.36it/s]"
          ]
        },
        {
          "name": "stdout",
          "output_type": "stream",
          "text": [
            "Evaluating...\n"
          ]
        },
        {
          "name": "stderr",
          "output_type": "stream",
          "text": [
            "Iteration: 100%|██████████| 1029/1029 [00:05<00:00, 191.00it/s]\n",
            "Iteration: 100%|██████████| 129/129 [00:00<00:00, 193.84it/s]\n",
            "Iteration: 100%|██████████| 129/129 [00:00<00:00, 193.66it/s]\n",
            "Iteration:   1%|          | 8/1029 [00:00<00:13, 78.19it/s]"
          ]
        },
        {
          "name": "stdout",
          "output_type": "stream",
          "text": [
            "Epoch: 03, Loss: 1.6086, Train: 72.21%, Valid: 64.05% Test: 70.15%\n",
            "Training...\n"
          ]
        },
        {
          "name": "stderr",
          "output_type": "stream",
          "text": [
            "Iteration: 100%|██████████| 1029/1029 [00:14<00:00, 72.15it/s]\n",
            "Iteration:   2%|▏         | 17/1029 [00:00<00:05, 168.88it/s]"
          ]
        },
        {
          "name": "stdout",
          "output_type": "stream",
          "text": [
            "Evaluating...\n"
          ]
        },
        {
          "name": "stderr",
          "output_type": "stream",
          "text": [
            "Iteration: 100%|██████████| 1029/1029 [00:05<00:00, 193.42it/s]\n",
            "Iteration: 100%|██████████| 129/129 [00:00<00:00, 197.23it/s]\n",
            "Iteration: 100%|██████████| 129/129 [00:00<00:00, 196.32it/s]\n",
            "Iteration:   1%|          | 8/1029 [00:00<00:13, 75.70it/s]"
          ]
        },
        {
          "name": "stdout",
          "output_type": "stream",
          "text": [
            "Epoch: 04, Loss: 0.0593, Train: 67.93%, Valid: 67.21% Test: 57.69%\n",
            "Training...\n"
          ]
        },
        {
          "name": "stderr",
          "output_type": "stream",
          "text": [
            "Iteration: 100%|██████████| 1029/1029 [00:13<00:00, 77.45it/s]\n",
            "Iteration:   2%|▏         | 17/1029 [00:00<00:06, 162.80it/s]"
          ]
        },
        {
          "name": "stdout",
          "output_type": "stream",
          "text": [
            "Evaluating...\n"
          ]
        },
        {
          "name": "stderr",
          "output_type": "stream",
          "text": [
            "Iteration: 100%|██████████| 1029/1029 [00:05<00:00, 193.18it/s]\n",
            "Iteration: 100%|██████████| 129/129 [00:00<00:00, 194.79it/s]\n",
            "Iteration: 100%|██████████| 129/129 [00:00<00:00, 194.80it/s]\n",
            "Iteration:   1%|          | 7/1029 [00:00<00:14, 69.83it/s]"
          ]
        },
        {
          "name": "stdout",
          "output_type": "stream",
          "text": [
            "Epoch: 05, Loss: 0.0269, Train: 68.62%, Valid: 61.72% Test: 60.02%\n",
            "Training...\n"
          ]
        },
        {
          "name": "stderr",
          "output_type": "stream",
          "text": [
            "Iteration: 100%|██████████| 1029/1029 [00:14<00:00, 71.91it/s]\n",
            "Iteration:   2%|▏         | 17/1029 [00:00<00:06, 166.48it/s]"
          ]
        },
        {
          "name": "stdout",
          "output_type": "stream",
          "text": [
            "Evaluating...\n"
          ]
        },
        {
          "name": "stderr",
          "output_type": "stream",
          "text": [
            "Iteration: 100%|██████████| 1029/1029 [00:05<00:00, 192.63it/s]\n",
            "Iteration: 100%|██████████| 129/129 [00:00<00:00, 194.26it/s]\n",
            "Iteration: 100%|██████████| 129/129 [00:00<00:00, 194.98it/s]\n",
            "Iteration:   1%|          | 7/1029 [00:00<00:14, 69.66it/s]"
          ]
        },
        {
          "name": "stdout",
          "output_type": "stream",
          "text": [
            "Epoch: 06, Loss: 0.0310, Train: 73.05%, Valid: 61.68% Test: 63.85%\n",
            "Training...\n"
          ]
        },
        {
          "name": "stderr",
          "output_type": "stream",
          "text": [
            "Iteration: 100%|██████████| 1029/1029 [00:14<00:00, 72.91it/s]\n",
            "Iteration:   2%|▏         | 18/1029 [00:00<00:05, 170.59it/s]"
          ]
        },
        {
          "name": "stdout",
          "output_type": "stream",
          "text": [
            "Evaluating...\n"
          ]
        },
        {
          "name": "stderr",
          "output_type": "stream",
          "text": [
            "Iteration: 100%|██████████| 1029/1029 [00:05<00:00, 191.92it/s]\n",
            "Iteration: 100%|██████████| 129/129 [00:00<00:00, 195.94it/s]\n",
            "Iteration: 100%|██████████| 129/129 [00:00<00:00, 194.55it/s]\n",
            "Iteration:   1%|          | 8/1029 [00:00<00:14, 71.54it/s]"
          ]
        },
        {
          "name": "stdout",
          "output_type": "stream",
          "text": [
            "Epoch: 07, Loss: 0.0209, Train: 72.76%, Valid: 65.93% Test: 65.84%\n",
            "Training...\n"
          ]
        },
        {
          "name": "stderr",
          "output_type": "stream",
          "text": [
            "Iteration: 100%|██████████| 1029/1029 [00:14<00:00, 72.61it/s]\n",
            "Iteration:   2%|▏         | 18/1029 [00:00<00:05, 174.79it/s]"
          ]
        },
        {
          "name": "stdout",
          "output_type": "stream",
          "text": [
            "Evaluating...\n"
          ]
        },
        {
          "name": "stderr",
          "output_type": "stream",
          "text": [
            "Iteration: 100%|██████████| 1029/1029 [00:05<00:00, 194.54it/s]\n",
            "Iteration: 100%|██████████| 129/129 [00:00<00:00, 198.11it/s]\n",
            "Iteration: 100%|██████████| 129/129 [00:00<00:00, 198.54it/s]\n",
            "Iteration:   1%|          | 8/1029 [00:00<00:14, 71.77it/s]"
          ]
        },
        {
          "name": "stdout",
          "output_type": "stream",
          "text": [
            "Epoch: 08, Loss: 0.0356, Train: 74.55%, Valid: 73.41% Test: 69.49%\n",
            "Training...\n"
          ]
        },
        {
          "name": "stderr",
          "output_type": "stream",
          "text": [
            "Iteration: 100%|██████████| 1029/1029 [00:13<00:00, 76.90it/s]\n",
            "Iteration:   2%|▏         | 18/1029 [00:00<00:05, 179.11it/s]"
          ]
        },
        {
          "name": "stdout",
          "output_type": "stream",
          "text": [
            "Evaluating...\n"
          ]
        },
        {
          "name": "stderr",
          "output_type": "stream",
          "text": [
            "Iteration: 100%|██████████| 1029/1029 [00:05<00:00, 192.41it/s]\n",
            "Iteration: 100%|██████████| 129/129 [00:00<00:00, 188.48it/s]\n",
            "Iteration: 100%|██████████| 129/129 [00:00<00:00, 195.10it/s]\n",
            "Iteration:   1%|          | 8/1029 [00:00<00:13, 75.44it/s]"
          ]
        },
        {
          "name": "stdout",
          "output_type": "stream",
          "text": [
            "Epoch: 09, Loss: 0.0186, Train: 76.20%, Valid: 63.34% Test: 68.33%\n",
            "Training...\n"
          ]
        },
        {
          "name": "stderr",
          "output_type": "stream",
          "text": [
            "Iteration: 100%|██████████| 1029/1029 [00:14<00:00, 71.66it/s]\n",
            "Iteration:   1%|▏         | 15/1029 [00:00<00:06, 149.74it/s]"
          ]
        },
        {
          "name": "stdout",
          "output_type": "stream",
          "text": [
            "Evaluating...\n"
          ]
        },
        {
          "name": "stderr",
          "output_type": "stream",
          "text": [
            "Iteration: 100%|██████████| 1029/1029 [00:05<00:00, 187.62it/s]\n",
            "Iteration: 100%|██████████| 129/129 [00:00<00:00, 190.54it/s]\n",
            "Iteration: 100%|██████████| 129/129 [00:00<00:00, 191.12it/s]\n",
            "Iteration:   1%|          | 8/1029 [00:00<00:13, 74.49it/s]"
          ]
        },
        {
          "name": "stdout",
          "output_type": "stream",
          "text": [
            "Epoch: 10, Loss: 0.2734, Train: 77.05%, Valid: 70.05% Test: 71.35%\n",
            "Training...\n"
          ]
        },
        {
          "name": "stderr",
          "output_type": "stream",
          "text": [
            "Iteration: 100%|██████████| 1029/1029 [00:14<00:00, 73.19it/s]\n",
            "Iteration:   2%|▏         | 17/1029 [00:00<00:06, 165.92it/s]"
          ]
        },
        {
          "name": "stdout",
          "output_type": "stream",
          "text": [
            "Evaluating...\n"
          ]
        },
        {
          "name": "stderr",
          "output_type": "stream",
          "text": [
            "Iteration: 100%|██████████| 1029/1029 [00:05<00:00, 188.20it/s]\n",
            "Iteration: 100%|██████████| 129/129 [00:00<00:00, 190.18it/s]\n",
            "Iteration: 100%|██████████| 129/129 [00:00<00:00, 190.72it/s]\n",
            "Iteration:   1%|          | 7/1029 [00:00<00:14, 69.60it/s]"
          ]
        },
        {
          "name": "stdout",
          "output_type": "stream",
          "text": [
            "Epoch: 11, Loss: 0.0377, Train: 76.03%, Valid: 75.34% Test: 73.97%\n",
            "Training...\n"
          ]
        },
        {
          "name": "stderr",
          "output_type": "stream",
          "text": [
            "Iteration: 100%|██████████| 1029/1029 [00:14<00:00, 72.31it/s]\n",
            "Iteration:   2%|▏         | 16/1029 [00:00<00:06, 153.75it/s]"
          ]
        },
        {
          "name": "stdout",
          "output_type": "stream",
          "text": [
            "Evaluating...\n"
          ]
        },
        {
          "name": "stderr",
          "output_type": "stream",
          "text": [
            "Iteration: 100%|██████████| 1029/1029 [00:05<00:00, 193.55it/s]\n",
            "Iteration: 100%|██████████| 129/129 [00:00<00:00, 198.38it/s]\n",
            "Iteration: 100%|██████████| 129/129 [00:00<00:00, 197.42it/s]\n",
            "Iteration:   1%|          | 8/1029 [00:00<00:13, 74.34it/s]"
          ]
        },
        {
          "name": "stdout",
          "output_type": "stream",
          "text": [
            "Epoch: 12, Loss: 0.0382, Train: 76.85%, Valid: 75.52% Test: 73.77%\n",
            "Training...\n"
          ]
        },
        {
          "name": "stderr",
          "output_type": "stream",
          "text": [
            "Iteration: 100%|██████████| 1029/1029 [00:13<00:00, 75.50it/s]\n",
            "Iteration:   2%|▏         | 18/1029 [00:00<00:05, 176.64it/s]"
          ]
        },
        {
          "name": "stdout",
          "output_type": "stream",
          "text": [
            "Evaluating...\n"
          ]
        },
        {
          "name": "stderr",
          "output_type": "stream",
          "text": [
            "Iteration: 100%|██████████| 1029/1029 [00:05<00:00, 194.38it/s]\n",
            "Iteration: 100%|██████████| 129/129 [00:00<00:00, 189.71it/s]\n",
            "Iteration: 100%|██████████| 129/129 [00:00<00:00, 184.46it/s]\n",
            "Iteration:   1%|          | 8/1029 [00:00<00:14, 71.99it/s]"
          ]
        },
        {
          "name": "stdout",
          "output_type": "stream",
          "text": [
            "Epoch: 13, Loss: 0.1107, Train: 77.44%, Valid: 76.43% Test: 72.85%\n",
            "Training...\n"
          ]
        },
        {
          "name": "stderr",
          "output_type": "stream",
          "text": [
            "Iteration: 100%|██████████| 1029/1029 [00:14<00:00, 72.40it/s]\n",
            "Iteration:   2%|▏         | 16/1029 [00:00<00:06, 158.75it/s]"
          ]
        },
        {
          "name": "stdout",
          "output_type": "stream",
          "text": [
            "Evaluating...\n"
          ]
        },
        {
          "name": "stderr",
          "output_type": "stream",
          "text": [
            "Iteration: 100%|██████████| 1029/1029 [00:05<00:00, 186.14it/s]\n",
            "Iteration: 100%|██████████| 129/129 [00:00<00:00, 192.46it/s]\n",
            "Iteration: 100%|██████████| 129/129 [00:00<00:00, 194.49it/s]\n",
            "Iteration:   1%|          | 8/1029 [00:00<00:13, 74.70it/s]"
          ]
        },
        {
          "name": "stdout",
          "output_type": "stream",
          "text": [
            "Epoch: 14, Loss: 0.8132, Train: 78.73%, Valid: 74.96% Test: 74.65%\n",
            "Training...\n"
          ]
        },
        {
          "name": "stderr",
          "output_type": "stream",
          "text": [
            "Iteration: 100%|██████████| 1029/1029 [00:14<00:00, 71.89it/s]\n",
            "Iteration:   2%|▏         | 17/1029 [00:00<00:06, 165.64it/s]"
          ]
        },
        {
          "name": "stdout",
          "output_type": "stream",
          "text": [
            "Evaluating...\n"
          ]
        },
        {
          "name": "stderr",
          "output_type": "stream",
          "text": [
            "Iteration: 100%|██████████| 1029/1029 [00:05<00:00, 194.83it/s]\n",
            "Iteration: 100%|██████████| 129/129 [00:00<00:00, 197.17it/s]\n",
            "Iteration: 100%|██████████| 129/129 [00:00<00:00, 197.45it/s]\n",
            "Iteration:   1%|          | 7/1029 [00:00<00:14, 69.20it/s]"
          ]
        },
        {
          "name": "stdout",
          "output_type": "stream",
          "text": [
            "Epoch: 15, Loss: 0.0268, Train: 79.04%, Valid: 73.85% Test: 75.07%\n",
            "Training...\n"
          ]
        },
        {
          "name": "stderr",
          "output_type": "stream",
          "text": [
            "Iteration: 100%|██████████| 1029/1029 [00:14<00:00, 72.36it/s]\n",
            "Iteration:   2%|▏         | 18/1029 [00:00<00:05, 175.74it/s]"
          ]
        },
        {
          "name": "stdout",
          "output_type": "stream",
          "text": [
            "Evaluating...\n"
          ]
        },
        {
          "name": "stderr",
          "output_type": "stream",
          "text": [
            "Iteration: 100%|██████████| 1029/1029 [00:05<00:00, 191.96it/s]\n",
            "Iteration: 100%|██████████| 129/129 [00:00<00:00, 195.17it/s]\n",
            "Iteration: 100%|██████████| 129/129 [00:00<00:00, 194.45it/s]\n",
            "Iteration:   1%|          | 8/1029 [00:00<00:12, 79.92it/s]"
          ]
        },
        {
          "name": "stdout",
          "output_type": "stream",
          "text": [
            "Epoch: 16, Loss: 0.0510, Train: 79.59%, Valid: 78.97% Test: 74.49%\n",
            "Training...\n"
          ]
        },
        {
          "name": "stderr",
          "output_type": "stream",
          "text": [
            "Iteration: 100%|██████████| 1029/1029 [00:13<00:00, 73.55it/s]\n",
            "Iteration:   2%|▏         | 17/1029 [00:00<00:06, 167.41it/s]"
          ]
        },
        {
          "name": "stdout",
          "output_type": "stream",
          "text": [
            "Evaluating...\n"
          ]
        },
        {
          "name": "stderr",
          "output_type": "stream",
          "text": [
            "Iteration: 100%|██████████| 1029/1029 [00:05<00:00, 193.32it/s]\n",
            "Iteration: 100%|██████████| 129/129 [00:00<00:00, 196.67it/s]\n",
            "Iteration: 100%|██████████| 129/129 [00:00<00:00, 195.35it/s]\n",
            "Iteration:   1%|          | 9/1029 [00:00<00:12, 80.52it/s]"
          ]
        },
        {
          "name": "stdout",
          "output_type": "stream",
          "text": [
            "Epoch: 17, Loss: 0.0168, Train: 78.73%, Valid: 78.73% Test: 76.70%\n",
            "Training...\n"
          ]
        },
        {
          "name": "stderr",
          "output_type": "stream",
          "text": [
            "Iteration: 100%|██████████| 1029/1029 [00:13<00:00, 73.98it/s]\n",
            "Iteration:   2%|▏         | 18/1029 [00:00<00:05, 174.13it/s]"
          ]
        },
        {
          "name": "stdout",
          "output_type": "stream",
          "text": [
            "Evaluating...\n"
          ]
        },
        {
          "name": "stderr",
          "output_type": "stream",
          "text": [
            "Iteration: 100%|██████████| 1029/1029 [00:05<00:00, 193.14it/s]\n",
            "Iteration: 100%|██████████| 129/129 [00:00<00:00, 194.39it/s]\n",
            "Iteration: 100%|██████████| 129/129 [00:00<00:00, 194.76it/s]\n",
            "Iteration:   1%|          | 8/1029 [00:00<00:13, 76.53it/s]"
          ]
        },
        {
          "name": "stdout",
          "output_type": "stream",
          "text": [
            "Epoch: 18, Loss: 0.0276, Train: 79.62%, Valid: 78.13% Test: 74.75%\n",
            "Training...\n"
          ]
        },
        {
          "name": "stderr",
          "output_type": "stream",
          "text": [
            "Iteration: 100%|██████████| 1029/1029 [00:13<00:00, 74.02it/s]\n",
            "Iteration:   2%|▏         | 18/1029 [00:00<00:05, 174.49it/s]"
          ]
        },
        {
          "name": "stdout",
          "output_type": "stream",
          "text": [
            "Evaluating...\n"
          ]
        },
        {
          "name": "stderr",
          "output_type": "stream",
          "text": [
            "Iteration: 100%|██████████| 1029/1029 [00:05<00:00, 191.58it/s]\n",
            "Iteration: 100%|██████████| 129/129 [00:00<00:00, 192.30it/s]\n",
            "Iteration: 100%|██████████| 129/129 [00:00<00:00, 195.04it/s]\n",
            "Iteration:   1%|          | 8/1029 [00:00<00:13, 73.61it/s]"
          ]
        },
        {
          "name": "stdout",
          "output_type": "stream",
          "text": [
            "Epoch: 19, Loss: 0.4068, Train: 80.19%, Valid: 77.68% Test: 75.77%\n",
            "Training...\n"
          ]
        },
        {
          "name": "stderr",
          "output_type": "stream",
          "text": [
            "Iteration: 100%|██████████| 1029/1029 [00:13<00:00, 77.53it/s]\n",
            "Iteration:   2%|▏         | 18/1029 [00:00<00:05, 175.91it/s]"
          ]
        },
        {
          "name": "stdout",
          "output_type": "stream",
          "text": [
            "Evaluating...\n"
          ]
        },
        {
          "name": "stderr",
          "output_type": "stream",
          "text": [
            "Iteration: 100%|██████████| 1029/1029 [00:05<00:00, 194.57it/s]\n",
            "Iteration: 100%|██████████| 129/129 [00:00<00:00, 198.38it/s]\n",
            "Iteration: 100%|██████████| 129/129 [00:00<00:00, 198.94it/s]\n",
            "Iteration:   1%|          | 9/1029 [00:00<00:12, 81.26it/s]"
          ]
        },
        {
          "name": "stdout",
          "output_type": "stream",
          "text": [
            "Epoch: 20, Loss: 0.0251, Train: 80.83%, Valid: 77.63% Test: 74.74%\n",
            "Training...\n"
          ]
        },
        {
          "name": "stderr",
          "output_type": "stream",
          "text": [
            "Iteration: 100%|██████████| 1029/1029 [00:13<00:00, 74.14it/s]\n",
            "Iteration:   2%|▏         | 18/1029 [00:00<00:05, 176.70it/s]"
          ]
        },
        {
          "name": "stdout",
          "output_type": "stream",
          "text": [
            "Evaluating...\n"
          ]
        },
        {
          "name": "stderr",
          "output_type": "stream",
          "text": [
            "Iteration: 100%|██████████| 1029/1029 [00:05<00:00, 196.47it/s]\n",
            "Iteration: 100%|██████████| 129/129 [00:00<00:00, 196.92it/s]\n",
            "Iteration: 100%|██████████| 129/129 [00:00<00:00, 198.62it/s]\n",
            "Iteration:   1%|          | 8/1029 [00:00<00:14, 71.61it/s]"
          ]
        },
        {
          "name": "stdout",
          "output_type": "stream",
          "text": [
            "Epoch: 21, Loss: 0.0275, Train: 80.86%, Valid: 80.52% Test: 75.55%\n",
            "Training...\n"
          ]
        },
        {
          "name": "stderr",
          "output_type": "stream",
          "text": [
            "Iteration: 100%|██████████| 1029/1029 [00:14<00:00, 72.63it/s]\n",
            "Iteration:   2%|▏         | 17/1029 [00:00<00:06, 165.06it/s]"
          ]
        },
        {
          "name": "stdout",
          "output_type": "stream",
          "text": [
            "Evaluating...\n"
          ]
        },
        {
          "name": "stderr",
          "output_type": "stream",
          "text": [
            "Iteration: 100%|██████████| 1029/1029 [00:05<00:00, 194.50it/s]\n",
            "Iteration: 100%|██████████| 129/129 [00:00<00:00, 199.16it/s]\n",
            "Iteration: 100%|██████████| 129/129 [00:00<00:00, 198.95it/s]\n",
            "Iteration:   1%|          | 8/1029 [00:00<00:13, 76.77it/s]"
          ]
        },
        {
          "name": "stdout",
          "output_type": "stream",
          "text": [
            "Epoch: 22, Loss: 0.0501, Train: 81.59%, Valid: 78.48% Test: 75.26%\n",
            "Training...\n"
          ]
        },
        {
          "name": "stderr",
          "output_type": "stream",
          "text": [
            "Iteration: 100%|██████████| 1029/1029 [00:13<00:00, 75.83it/s]\n",
            "Iteration:   2%|▏         | 16/1029 [00:00<00:06, 153.40it/s]"
          ]
        },
        {
          "name": "stdout",
          "output_type": "stream",
          "text": [
            "Evaluating...\n"
          ]
        },
        {
          "name": "stderr",
          "output_type": "stream",
          "text": [
            "Iteration: 100%|██████████| 1029/1029 [00:05<00:00, 192.49it/s]\n",
            "Iteration: 100%|██████████| 129/129 [00:00<00:00, 192.72it/s]\n",
            "Iteration: 100%|██████████| 129/129 [00:00<00:00, 192.11it/s]\n",
            "Iteration:   1%|          | 8/1029 [00:00<00:13, 76.12it/s]"
          ]
        },
        {
          "name": "stdout",
          "output_type": "stream",
          "text": [
            "Epoch: 23, Loss: 0.4086, Train: 80.47%, Valid: 76.58% Test: 76.29%\n",
            "Training...\n"
          ]
        },
        {
          "name": "stderr",
          "output_type": "stream",
          "text": [
            "Iteration: 100%|██████████| 1029/1029 [00:14<00:00, 72.33it/s]\n",
            "Iteration:   2%|▏         | 16/1029 [00:00<00:06, 153.10it/s]"
          ]
        },
        {
          "name": "stdout",
          "output_type": "stream",
          "text": [
            "Evaluating...\n"
          ]
        },
        {
          "name": "stderr",
          "output_type": "stream",
          "text": [
            "Iteration: 100%|██████████| 1029/1029 [00:05<00:00, 191.53it/s]\n",
            "Iteration: 100%|██████████| 129/129 [00:00<00:00, 191.23it/s]\n",
            "Iteration: 100%|██████████| 129/129 [00:00<00:00, 193.57it/s]\n",
            "Iteration:   1%|          | 8/1029 [00:00<00:13, 75.17it/s]"
          ]
        },
        {
          "name": "stdout",
          "output_type": "stream",
          "text": [
            "Epoch: 24, Loss: 0.0281, Train: 80.89%, Valid: 75.17% Test: 71.96%\n",
            "Training...\n"
          ]
        },
        {
          "name": "stderr",
          "output_type": "stream",
          "text": [
            "Iteration: 100%|██████████| 1029/1029 [00:14<00:00, 71.33it/s]\n",
            "Iteration:   2%|▏         | 18/1029 [00:00<00:05, 172.89it/s]"
          ]
        },
        {
          "name": "stdout",
          "output_type": "stream",
          "text": [
            "Evaluating...\n"
          ]
        },
        {
          "name": "stderr",
          "output_type": "stream",
          "text": [
            "Iteration: 100%|██████████| 1029/1029 [00:05<00:00, 189.53it/s]\n",
            "Iteration: 100%|██████████| 129/129 [00:00<00:00, 194.34it/s]\n",
            "Iteration: 100%|██████████| 129/129 [00:00<00:00, 191.54it/s]\n",
            "Iteration:   1%|          | 7/1029 [00:00<00:14, 69.72it/s]"
          ]
        },
        {
          "name": "stdout",
          "output_type": "stream",
          "text": [
            "Epoch: 25, Loss: 0.2534, Train: 81.91%, Valid: 79.47% Test: 74.23%\n",
            "Training...\n"
          ]
        },
        {
          "name": "stderr",
          "output_type": "stream",
          "text": [
            "Iteration: 100%|██████████| 1029/1029 [00:13<00:00, 74.39it/s]\n",
            "Iteration:   2%|▏         | 17/1029 [00:00<00:05, 169.63it/s]"
          ]
        },
        {
          "name": "stdout",
          "output_type": "stream",
          "text": [
            "Evaluating...\n"
          ]
        },
        {
          "name": "stderr",
          "output_type": "stream",
          "text": [
            "Iteration: 100%|██████████| 1029/1029 [00:05<00:00, 188.59it/s]\n",
            "Iteration: 100%|██████████| 129/129 [00:00<00:00, 193.27it/s]\n",
            "Iteration: 100%|██████████| 129/129 [00:00<00:00, 193.85it/s]\n",
            "Iteration:   1%|          | 7/1029 [00:00<00:15, 66.50it/s]"
          ]
        },
        {
          "name": "stdout",
          "output_type": "stream",
          "text": [
            "Epoch: 26, Loss: 0.0188, Train: 80.77%, Valid: 70.30% Test: 71.85%\n",
            "Training...\n"
          ]
        },
        {
          "name": "stderr",
          "output_type": "stream",
          "text": [
            "Iteration: 100%|██████████| 1029/1029 [00:14<00:00, 71.31it/s]\n",
            "Iteration:   2%|▏         | 18/1029 [00:00<00:05, 176.23it/s]"
          ]
        },
        {
          "name": "stdout",
          "output_type": "stream",
          "text": [
            "Evaluating...\n"
          ]
        },
        {
          "name": "stderr",
          "output_type": "stream",
          "text": [
            "Iteration: 100%|██████████| 1029/1029 [00:05<00:00, 194.06it/s]\n",
            "Iteration: 100%|██████████| 129/129 [00:00<00:00, 197.05it/s]\n",
            "Iteration: 100%|██████████| 129/129 [00:00<00:00, 197.17it/s]\n",
            "Iteration:   1%|          | 8/1029 [00:00<00:13, 77.94it/s]"
          ]
        },
        {
          "name": "stdout",
          "output_type": "stream",
          "text": [
            "Epoch: 27, Loss: 0.0974, Train: 81.35%, Valid: 80.77% Test: 75.49%\n",
            "Training...\n"
          ]
        },
        {
          "name": "stderr",
          "output_type": "stream",
          "text": [
            "Iteration: 100%|██████████| 1029/1029 [00:13<00:00, 73.74it/s]\n",
            "Iteration:   2%|▏         | 18/1029 [00:00<00:05, 173.02it/s]"
          ]
        },
        {
          "name": "stdout",
          "output_type": "stream",
          "text": [
            "Evaluating...\n"
          ]
        },
        {
          "name": "stderr",
          "output_type": "stream",
          "text": [
            "Iteration: 100%|██████████| 1029/1029 [00:05<00:00, 194.13it/s]\n",
            "Iteration: 100%|██████████| 129/129 [00:00<00:00, 195.30it/s]\n",
            "Iteration: 100%|██████████| 129/129 [00:00<00:00, 195.87it/s]\n",
            "Iteration:   1%|          | 8/1029 [00:00<00:13, 74.03it/s]"
          ]
        },
        {
          "name": "stdout",
          "output_type": "stream",
          "text": [
            "Epoch: 28, Loss: 0.6375, Train: 82.35%, Valid: 80.93% Test: 77.75%\n",
            "Training...\n"
          ]
        },
        {
          "name": "stderr",
          "output_type": "stream",
          "text": [
            "Iteration: 100%|██████████| 1029/1029 [00:13<00:00, 74.20it/s]\n",
            "Iteration:   2%|▏         | 18/1029 [00:00<00:05, 174.24it/s]"
          ]
        },
        {
          "name": "stdout",
          "output_type": "stream",
          "text": [
            "Evaluating...\n"
          ]
        },
        {
          "name": "stderr",
          "output_type": "stream",
          "text": [
            "Iteration: 100%|██████████| 1029/1029 [00:05<00:00, 194.47it/s]\n",
            "Iteration: 100%|██████████| 129/129 [00:00<00:00, 195.28it/s]\n",
            "Iteration: 100%|██████████| 129/129 [00:00<00:00, 194.33it/s]\n",
            "Iteration:   1%|          | 8/1029 [00:00<00:13, 75.24it/s]"
          ]
        },
        {
          "name": "stdout",
          "output_type": "stream",
          "text": [
            "Epoch: 29, Loss: 0.0269, Train: 82.44%, Valid: 79.72% Test: 77.22%\n",
            "Training...\n"
          ]
        },
        {
          "name": "stderr",
          "output_type": "stream",
          "text": [
            "Iteration: 100%|██████████| 1029/1029 [00:14<00:00, 73.12it/s]\n",
            "Iteration:   2%|▏         | 18/1029 [00:00<00:05, 173.46it/s]"
          ]
        },
        {
          "name": "stdout",
          "output_type": "stream",
          "text": [
            "Evaluating...\n"
          ]
        },
        {
          "name": "stderr",
          "output_type": "stream",
          "text": [
            "Iteration: 100%|██████████| 1029/1029 [00:05<00:00, 192.02it/s]\n",
            "Iteration: 100%|██████████| 129/129 [00:00<00:00, 195.31it/s]\n",
            "Iteration: 100%|██████████| 129/129 [00:00<00:00, 194.93it/s]"
          ]
        },
        {
          "name": "stdout",
          "output_type": "stream",
          "text": [
            "Epoch: 30, Loss: 0.0304, Train: 83.29%, Valid: 80.09% Test: 75.82%\n"
          ]
        },
        {
          "name": "stderr",
          "output_type": "stream",
          "text": [
            "\n"
          ]
        }
      ],
      "source": [
        "import copy\n",
        "\n",
        "model.reset_parameters()\n",
        "\n",
        "optimizer = torch.optim.Adam(model.parameters(), lr=args['lr'])\n",
        "loss_fn = torch.nn.BCEWithLogitsLoss()\n",
        "\n",
        "best_model = None\n",
        "best_valid_acc = 0\n",
        "\n",
        "for epoch in range(1, 1 + args[\"epochs\"]):\n",
        "    print('Training...')\n",
        "    loss = train(model, device, train_loader, optimizer, loss_fn)\n",
        "\n",
        "    print('Evaluating...')\n",
        "    train_result = eval(model, device, train_loader, evaluator)\n",
        "    val_result = eval(model, device, valid_loader, evaluator)\n",
        "    test_result = eval(model, device, test_loader, evaluator)\n",
        "\n",
        "    train_acc, valid_acc, test_acc = train_result[dataset.eval_metric], val_result[dataset.eval_metric], test_result[dataset.eval_metric]\n",
        "    if valid_acc > best_valid_acc:\n",
        "        best_valid_acc = valid_acc\n",
        "        best_model = copy.deepcopy(model)\n",
        "    print(f'Epoch: {epoch:02d}, '\n",
        "        f'Loss: {loss:.4f}, '\n",
        "        f'Train: {100 * train_acc:.2f}%, '\n",
        "        f'Valid: {100 * valid_acc:.2f}% '\n",
        "        f'Test: {100 * test_acc:.2f}%')"
      ]
    },
    {
      "cell_type": "code",
      "execution_count": 50,
      "metadata": {
        "id": "4ydu1WbA7qbt",
        "outputId": "125dc471-fb34-4f51-c13b-b6a152f14724",
        "colab": {
          "base_uri": "https://localhost:8080/"
        }
      },
      "outputs": [
        {
          "output_type": "stream",
          "name": "stderr",
          "text": [
            "Iteration: 100%|██████████| 1029/1029 [00:12<00:00, 81.62it/s]\n",
            "Iteration: 100%|██████████| 129/129 [00:01<00:00, 79.73it/s]\n",
            "Iteration: 100%|██████████| 129/129 [00:01<00:00, 81.04it/s]"
          ]
        },
        {
          "output_type": "stream",
          "name": "stdout",
          "text": [
            "Best model: Train: 84.62%, Valid: 80.46% Test: 75.97%\n"
          ]
        },
        {
          "output_type": "stream",
          "name": "stderr",
          "text": [
            "\n"
          ]
        }
      ],
      "source": [
        "train_acc = eval(best_model, device, train_loader, evaluator)[dataset.eval_metric]\n",
        "valid_acc = eval(best_model, device, valid_loader, evaluator)[dataset.eval_metric]\n",
        "test_acc = eval(best_model, device, test_loader, evaluator)[dataset.eval_metric]\n",
        "\n",
        "print(f'Best model: '\n",
        "      f'Train: {100 * train_acc:.2f}%, '\n",
        "      f'Valid: {100 * valid_acc:.2f}% '\n",
        "      f'Test: {100 * test_acc:.2f}%')"
      ]
    },
    {
      "cell_type": "markdown",
      "metadata": {
        "id": "e7JXsMTBgeOI"
      },
      "source": [
        "# Submission\n",
        "\n",
        "In order to get credit, you must go submit your answers on Gradescope.\n",
        "\n",
        "Also, you need to submit the `ipynb` file of Colab 2, by clicking `File` and `Download .ipynb`. Please make sure that your output of each cell is available in your `ipynb` file."
      ]
    }
  ],
  "metadata": {
    "accelerator": "GPU",
    "colab": {
      "collapsed_sections": [],
      "machine_shape": "hm",
      "name": "CS224W_Colab_2.ipynb",
      "provenance": [],
      "include_colab_link": true
    },
    "kernelspec": {
      "display_name": "Python 3",
      "name": "python3"
    },
    "language_info": {
      "name": "python"
    }
  },
  "nbformat": 4,
  "nbformat_minor": 0
}